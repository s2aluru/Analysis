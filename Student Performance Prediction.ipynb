{
 "cells": [
  {
   "cell_type": "markdown",
   "metadata": {},
   "source": [
    "# Student Performance Prediction"
   ]
  },
  {
   "cell_type": "markdown",
   "metadata": {},
   "source": [
    "I have done this project for Data Science MicroMasters course.\n",
    "#### Goal: Predict student's final grade.\n",
    "#### Benefits: Provide support for lower performing students to boost their grades.\n",
    "#### Resources: <a href=\"https://archive.ics.uci.edu/ml/datasets/student+performance\">student performance dataset</a>\n",
    "#### Problem Statement: Create a regression model to predict student's grade that ranges from 1-10, "
   ]
  },
  {
   "cell_type": "code",
   "execution_count": 1,
   "metadata": {},
   "outputs": [],
   "source": [
    "import numpy as np\n",
    "import pandas as pd\n",
    "import math, os\n",
    "from IPython.display import Markdown, display, HTML, Image\n",
    "import matplotlib.pyplot as plt\n",
    "%matplotlib inline\n",
    "import seaborn as sns\n",
    "import missingno as msno\n",
    "from sklearn.preprocessing import StandardScaler\n",
    "from sklearn.tree import DecisionTreeRegressor\n",
    "from sklearn.ensemble import RandomForestRegressor\n",
    "from sklearn.linear_model import LinearRegression, Ridge, Lasso\n",
    "from sklearn.model_selection import KFold, StratifiedKFold, GridSearchCV, cross_val_score, train_test_split\n",
    "from yellowbrick.model_selection import RFECV\n",
    "#from sklearn.feature_selection import RFECV\n",
    "from sklearn.pipeline import Pipeline\n",
    "from sklearn.metrics import r2_score\n",
    "\n",
    "import Helper\n",
    "%load_ext autoreload\n",
    "%autoreload 2\n",
    "\n",
    "import warnings\n",
    "warnings.filterwarnings('ignore')\n",
    "\n",
    "import graphviz \n",
    "from graphviz import Source\n",
    "import pydotplus\n",
    "\n",
    "# initialize helper class\n",
    "helper = Helper.Utils()\n",
    "seperator = ', '"
   ]
  },
  {
   "cell_type": "markdown",
   "metadata": {},
   "source": [
    "## Read Data"
   ]
  },
  {
   "cell_type": "code",
   "execution_count": 2,
   "metadata": {},
   "outputs": [
    {
     "data": {
      "text/html": [
       "<b>There are 33 columns and 395 records in the dataset, let's see first 5 rows.</b>"
      ],
      "text/plain": [
       "<IPython.core.display.HTML object>"
      ]
     },
     "metadata": {},
     "output_type": "display_data"
    },
    {
     "data": {
      "text/html": [
       "<b></b>"
      ],
      "text/plain": [
       "<IPython.core.display.HTML object>"
      ]
     },
     "metadata": {},
     "output_type": "display_data"
    },
    {
     "data": {
      "text/html": [
       "<div>\n",
       "<style scoped>\n",
       "    .dataframe tbody tr th:only-of-type {\n",
       "        vertical-align: middle;\n",
       "    }\n",
       "\n",
       "    .dataframe tbody tr th {\n",
       "        vertical-align: top;\n",
       "    }\n",
       "\n",
       "    .dataframe thead th {\n",
       "        text-align: right;\n",
       "    }\n",
       "</style>\n",
       "<table border=\"1\" class=\"dataframe\">\n",
       "  <thead>\n",
       "    <tr style=\"text-align: right;\">\n",
       "      <th></th>\n",
       "      <th>school</th>\n",
       "      <th>sex</th>\n",
       "      <th>age</th>\n",
       "      <th>address</th>\n",
       "      <th>famsize</th>\n",
       "      <th>Pstatus</th>\n",
       "      <th>Medu</th>\n",
       "      <th>Fedu</th>\n",
       "      <th>Mjob</th>\n",
       "      <th>Fjob</th>\n",
       "      <th>reason</th>\n",
       "      <th>guardian</th>\n",
       "      <th>traveltime</th>\n",
       "      <th>studytime</th>\n",
       "      <th>failures</th>\n",
       "      <th>schoolsup</th>\n",
       "      <th>famsup</th>\n",
       "      <th>paid</th>\n",
       "      <th>activities</th>\n",
       "      <th>nursery</th>\n",
       "      <th>higher</th>\n",
       "      <th>internet</th>\n",
       "      <th>romantic</th>\n",
       "      <th>famrel</th>\n",
       "      <th>freetime</th>\n",
       "      <th>goout</th>\n",
       "      <th>Dalc</th>\n",
       "      <th>Walc</th>\n",
       "      <th>health</th>\n",
       "      <th>absences</th>\n",
       "      <th>G1</th>\n",
       "      <th>G2</th>\n",
       "      <th>G3</th>\n",
       "    </tr>\n",
       "  </thead>\n",
       "  <tbody>\n",
       "    <tr>\n",
       "      <th>0</th>\n",
       "      <td>GP</td>\n",
       "      <td>F</td>\n",
       "      <td>18</td>\n",
       "      <td>U</td>\n",
       "      <td>GT3</td>\n",
       "      <td>A</td>\n",
       "      <td>4</td>\n",
       "      <td>4</td>\n",
       "      <td>at_home</td>\n",
       "      <td>teacher</td>\n",
       "      <td>course</td>\n",
       "      <td>mother</td>\n",
       "      <td>2</td>\n",
       "      <td>2</td>\n",
       "      <td>0</td>\n",
       "      <td>yes</td>\n",
       "      <td>no</td>\n",
       "      <td>no</td>\n",
       "      <td>no</td>\n",
       "      <td>yes</td>\n",
       "      <td>yes</td>\n",
       "      <td>no</td>\n",
       "      <td>no</td>\n",
       "      <td>4</td>\n",
       "      <td>3</td>\n",
       "      <td>4</td>\n",
       "      <td>1</td>\n",
       "      <td>1</td>\n",
       "      <td>3</td>\n",
       "      <td>6</td>\n",
       "      <td>5</td>\n",
       "      <td>6</td>\n",
       "      <td>6</td>\n",
       "    </tr>\n",
       "    <tr>\n",
       "      <th>1</th>\n",
       "      <td>GP</td>\n",
       "      <td>F</td>\n",
       "      <td>17</td>\n",
       "      <td>U</td>\n",
       "      <td>GT3</td>\n",
       "      <td>T</td>\n",
       "      <td>1</td>\n",
       "      <td>1</td>\n",
       "      <td>at_home</td>\n",
       "      <td>other</td>\n",
       "      <td>course</td>\n",
       "      <td>father</td>\n",
       "      <td>1</td>\n",
       "      <td>2</td>\n",
       "      <td>0</td>\n",
       "      <td>no</td>\n",
       "      <td>yes</td>\n",
       "      <td>no</td>\n",
       "      <td>no</td>\n",
       "      <td>no</td>\n",
       "      <td>yes</td>\n",
       "      <td>yes</td>\n",
       "      <td>no</td>\n",
       "      <td>5</td>\n",
       "      <td>3</td>\n",
       "      <td>3</td>\n",
       "      <td>1</td>\n",
       "      <td>1</td>\n",
       "      <td>3</td>\n",
       "      <td>4</td>\n",
       "      <td>5</td>\n",
       "      <td>5</td>\n",
       "      <td>6</td>\n",
       "    </tr>\n",
       "    <tr>\n",
       "      <th>2</th>\n",
       "      <td>GP</td>\n",
       "      <td>F</td>\n",
       "      <td>15</td>\n",
       "      <td>U</td>\n",
       "      <td>LE3</td>\n",
       "      <td>T</td>\n",
       "      <td>1</td>\n",
       "      <td>1</td>\n",
       "      <td>at_home</td>\n",
       "      <td>other</td>\n",
       "      <td>other</td>\n",
       "      <td>mother</td>\n",
       "      <td>1</td>\n",
       "      <td>2</td>\n",
       "      <td>3</td>\n",
       "      <td>yes</td>\n",
       "      <td>no</td>\n",
       "      <td>yes</td>\n",
       "      <td>no</td>\n",
       "      <td>yes</td>\n",
       "      <td>yes</td>\n",
       "      <td>yes</td>\n",
       "      <td>no</td>\n",
       "      <td>4</td>\n",
       "      <td>3</td>\n",
       "      <td>2</td>\n",
       "      <td>2</td>\n",
       "      <td>3</td>\n",
       "      <td>3</td>\n",
       "      <td>10</td>\n",
       "      <td>7</td>\n",
       "      <td>8</td>\n",
       "      <td>10</td>\n",
       "    </tr>\n",
       "    <tr>\n",
       "      <th>3</th>\n",
       "      <td>GP</td>\n",
       "      <td>F</td>\n",
       "      <td>15</td>\n",
       "      <td>U</td>\n",
       "      <td>GT3</td>\n",
       "      <td>T</td>\n",
       "      <td>4</td>\n",
       "      <td>2</td>\n",
       "      <td>health</td>\n",
       "      <td>services</td>\n",
       "      <td>home</td>\n",
       "      <td>mother</td>\n",
       "      <td>1</td>\n",
       "      <td>3</td>\n",
       "      <td>0</td>\n",
       "      <td>no</td>\n",
       "      <td>yes</td>\n",
       "      <td>yes</td>\n",
       "      <td>yes</td>\n",
       "      <td>yes</td>\n",
       "      <td>yes</td>\n",
       "      <td>yes</td>\n",
       "      <td>yes</td>\n",
       "      <td>3</td>\n",
       "      <td>2</td>\n",
       "      <td>2</td>\n",
       "      <td>1</td>\n",
       "      <td>1</td>\n",
       "      <td>5</td>\n",
       "      <td>2</td>\n",
       "      <td>15</td>\n",
       "      <td>14</td>\n",
       "      <td>15</td>\n",
       "    </tr>\n",
       "    <tr>\n",
       "      <th>4</th>\n",
       "      <td>GP</td>\n",
       "      <td>F</td>\n",
       "      <td>16</td>\n",
       "      <td>U</td>\n",
       "      <td>GT3</td>\n",
       "      <td>T</td>\n",
       "      <td>3</td>\n",
       "      <td>3</td>\n",
       "      <td>other</td>\n",
       "      <td>other</td>\n",
       "      <td>home</td>\n",
       "      <td>father</td>\n",
       "      <td>1</td>\n",
       "      <td>2</td>\n",
       "      <td>0</td>\n",
       "      <td>no</td>\n",
       "      <td>yes</td>\n",
       "      <td>yes</td>\n",
       "      <td>no</td>\n",
       "      <td>yes</td>\n",
       "      <td>yes</td>\n",
       "      <td>no</td>\n",
       "      <td>no</td>\n",
       "      <td>4</td>\n",
       "      <td>3</td>\n",
       "      <td>2</td>\n",
       "      <td>1</td>\n",
       "      <td>2</td>\n",
       "      <td>5</td>\n",
       "      <td>4</td>\n",
       "      <td>6</td>\n",
       "      <td>10</td>\n",
       "      <td>10</td>\n",
       "    </tr>\n",
       "  </tbody>\n",
       "</table>\n",
       "</div>"
      ],
      "text/plain": [
       "  school sex  age address famsize Pstatus  Medu  Fedu     Mjob      Fjob  \\\n",
       "0     GP   F   18       U     GT3       A     4     4  at_home   teacher   \n",
       "1     GP   F   17       U     GT3       T     1     1  at_home     other   \n",
       "2     GP   F   15       U     LE3       T     1     1  at_home     other   \n",
       "3     GP   F   15       U     GT3       T     4     2   health  services   \n",
       "4     GP   F   16       U     GT3       T     3     3    other     other   \n",
       "\n",
       "   reason guardian  traveltime  studytime  failures schoolsup famsup paid  \\\n",
       "0  course   mother           2          2         0       yes     no   no   \n",
       "1  course   father           1          2         0        no    yes   no   \n",
       "2   other   mother           1          2         3       yes     no  yes   \n",
       "3    home   mother           1          3         0        no    yes  yes   \n",
       "4    home   father           1          2         0        no    yes  yes   \n",
       "\n",
       "  activities nursery higher internet romantic  famrel  freetime  goout  Dalc  \\\n",
       "0         no     yes    yes       no       no       4         3      4     1   \n",
       "1         no      no    yes      yes       no       5         3      3     1   \n",
       "2         no     yes    yes      yes       no       4         3      2     2   \n",
       "3        yes     yes    yes      yes      yes       3         2      2     1   \n",
       "4         no     yes    yes       no       no       4         3      2     1   \n",
       "\n",
       "   Walc  health  absences  G1  G2  G3  \n",
       "0     1       3         6   5   6   6  \n",
       "1     1       3         4   5   5   6  \n",
       "2     3       3        10   7   8  10  \n",
       "3     1       5         2  15  14  15  \n",
       "4     2       5         4   6  10  10  "
      ]
     },
     "metadata": {},
     "output_type": "display_data"
    },
    {
     "data": {
      "text/html": [
       " <br/> <b>Following are the 33 columns in the dataset: </b> <br/>school, sex, age, address, famsize, Pstatus, Medu, Fedu, Mjob, Fjob, reason, guardian, traveltime, studytime, failures, schoolsup, famsup, paid, activities, nursery, higher, internet, romantic, famrel, freetime, goout, Dalc, Walc, health, absences, G1, G2, G3"
      ],
      "text/plain": [
       "<IPython.core.display.HTML object>"
      ]
     },
     "metadata": {},
     "output_type": "display_data"
    },
    {
     "data": {
      "text/html": [
       "<b> Last three columns are grades - G1, G2, G3 and we want to predict final grade - G3</b>"
      ],
      "text/plain": [
       "<IPython.core.display.HTML object>"
      ]
     },
     "metadata": {},
     "output_type": "display_data"
    },
    {
     "data": {
      "text/html": [
       "<b>Empty column count is 0, so there are no null records in the dataset.</b>"
      ],
      "text/plain": [
       "<IPython.core.display.HTML object>"
      ]
     },
     "metadata": {},
     "output_type": "display_data"
    },
    {
     "data": {
      "text/html": [
       "<b>However there are 38 records with G3=0, which means few students haven't take final test. We will remove those records because that data doesn't help us in predicting final grade.</b>"
      ],
      "text/plain": [
       "<IPython.core.display.HTML object>"
      ]
     },
     "metadata": {},
     "output_type": "display_data"
    }
   ],
   "source": [
    "# read data from csv\n",
    "def read_data():\n",
    "    global df_mathdata\n",
    "    df_mathdata = pd.read_csv(\"student-mat.csv\", delimiter=';')\n",
    "   \n",
    "        \n",
    "# get no of rows, columns and column names\n",
    "def get_data_description():\n",
    "    no_of_rows = len(df_mathdata)\n",
    "    no_of_columns = len(df_mathdata.columns)\n",
    "    columns = [i for i in df_mathdata.columns]\n",
    "    # display sample data\n",
    "    # df_mathdata.info()\n",
    "    helper.printHtml(\"There are {} columns and {} records in the dataset, let's see first 5 rows.\".format(no_of_columns, no_of_rows) )\n",
    "    helper.display_data(\"\", df_mathdata.head(), 5)\n",
    "    helper.printHtml(\" <br/> <b>Following are the {} columns in the dataset: </b> <br/>{}\".format(no_of_columns, seperator.join(columns)), False)\n",
    "    helper.printHtml(\" Last three columns are grades - G1, G2, G3 and we want to predict final grade - G3\")\n",
    "\n",
    "# check for empty columns and remove them\n",
    "def remove_empty_records():\n",
    "    null_count = df_mathdata.isnull().sum().sum()\n",
    "    helper.printHtml(\"Empty column count is 0, so there are no null records in the dataset.\".format(null_count))\n",
    "    # check for g3=0\n",
    "    g3_zero = df_mathdata[df_mathdata.G3 == 0].shape[0]\n",
    "    helper.printHtml(\"However there are {} records with G3=0, which means few students haven't take final test. We will remove those records because that data doesn't help us in predicting final grade.\".format(g3_zero))\n",
    "    df_mathdata.drop(df_mathdata[df_mathdata.G3 == 0].index, inplace=True)\n",
    "    \n",
    "read_data()\n",
    "get_data_description()\n",
    "remove_empty_records()"
   ]
  },
  {
   "cell_type": "markdown",
   "metadata": {},
   "source": [
    "## Exploratory Data Analysis"
   ]
  },
  {
   "cell_type": "code",
   "execution_count": 3,
   "metadata": {},
   "outputs": [
    {
     "data": {
      "text/html": [
       "<b>Let's check grades - G1, G2, G3 distribution.</b>"
      ],
      "text/plain": [
       "<IPython.core.display.HTML object>"
      ]
     },
     "metadata": {},
     "output_type": "display_data"
    },
    {
     "data": {
      "image/png": "[encoded data removed]",
      "text/plain": [
       "<Figure size 1296x216 with 3 Axes>"
      ]
     },
     "metadata": {
      "needs_background": "light"
     },
     "output_type": "display_data"
    },
    {
     "data": {
      "text/html": [
       "<b>Grade range is from 0 to 20 and mostly grades average around 10.</b>"
      ],
      "text/plain": [
       "<IPython.core.display.HTML object>"
      ]
     },
     "metadata": {},
     "output_type": "display_data"
    }
   ],
   "source": [
    "def explore_grades():\n",
    "    helper.printHtml(\"Let's check grades - G1, G2, G3 distribution.\")\n",
    "    f, ax = plt.subplots(1, 3, figsize=(18, 3),sharey=True)\n",
    "    sns.distplot(df_mathdata.G1, ax=ax[0]);\n",
    "    sns.distplot(df_mathdata.G2, ax=ax[1]);\n",
    "    sns.distplot(df_mathdata.G3, ax=ax[2]);\n",
    "    plt.show()\n",
    "    helper.printHtml(\"Grade range is from 0 to 20 and mostly grades average around 10.\")\n",
    "\n",
    "explore_grades()"
   ]
  },
  {
   "cell_type": "code",
   "execution_count": 4,
   "metadata": {},
   "outputs": [
    {
     "data": {
      "text/html": [
       "<b>Let's visualize pairwise correlation of all the columns to see if any of them are strongly related.</b>"
      ],
      "text/plain": [
       "<IPython.core.display.HTML object>"
      ]
     },
     "metadata": {},
     "output_type": "display_data"
    },
    {
     "data": {
      "image/png": "[encoded data removed]",
      "text/plain": [
       "<Figure size 864x576 with 2 Axes>"
      ]
     },
     "metadata": {
      "needs_background": "light"
     },
     "output_type": "display_data"
    },
    {
     "data": {
      "text/html": [
       "<b>Looks like Mother's and Fathers education, Day and Weekend alcohol are correlated. Based on G3 (last row) color depth - failures, G1, G2 seem to affect G3.</b>"
      ],
      "text/plain": [
       "<IPython.core.display.HTML object>"
      ]
     },
     "metadata": {},
     "output_type": "display_data"
    }
   ],
   "source": [
    "# visualize correlation of all the cloumns\n",
    "def visualize_correlation(df):\n",
    "    helper.printHtml(\"Let's visualize pairwise correlation of all the columns to see if any of them are strongly related.\")\n",
    "    corr = df.corr()\n",
    "    # Generate a mask for the upper triangle\n",
    "    mask = np.zeros_like(corr, dtype=np.bool)\n",
    "    mask[np.triu_indices_from(mask)] = True\n",
    "\n",
    "    # Set up the matplotlib figure\n",
    "    f, ax = plt.subplots(figsize=(12,8))\n",
    "    \n",
    "    # Generate a custom diverging colormap\n",
    "    cmap = sns.diverging_palette(220, 10, as_cmap=True)\n",
    "\n",
    "    # Draw the heatmap with the mask and correct aspect ratio\n",
    "    sns.heatmap(corr, mask=mask, cmap=cmap, vmax=.5, center=0, square=True, linewidths=.5, cbar_kws={\"shrink\": .5});\n",
    "    plt.show()\n",
    "    helper.printHtml(\"Looks like Mother's and Fathers education, Day and Weekend alcohol are correlated. Based on G3 (last row) color depth - failures, G1, G2 seem to affect G3.\")\n",
    "\n",
    "    return corr;\n",
    "\n",
    "corr = visualize_correlation(df_mathdata)"
   ]
  },
  {
   "cell_type": "code",
   "execution_count": 5,
   "metadata": {},
   "outputs": [
    {
     "data": {
      "text/html": [
       "<b>To be more concrete, let's see all the correlation coefficients for all the columns with respect to G3 in decreasing order.</b>"
      ],
      "text/plain": [
       "<IPython.core.display.HTML object>"
      ]
     },
     "metadata": {},
     "output_type": "display_data"
    },
    {
     "data": {
      "text/plain": [
       "G3            1.000000\n",
       "G2            0.965583\n",
       "G1            0.891805\n",
       "failures      0.293831\n",
       "absences      0.213129\n",
       "Medu          0.190308\n",
       "Walc          0.190054\n",
       "goout         0.177383\n",
       "Fedu          0.158811\n",
       "Dalc          0.140690\n",
       "age           0.140372\n",
       "studytime     0.126728\n",
       "traveltime    0.099785\n",
       "health        0.081691\n",
       "famrel        0.037711\n",
       "freetime      0.021589\n",
       "Name: G3, dtype: float64"
      ]
     },
     "execution_count": 5,
     "metadata": {},
     "output_type": "execute_result"
    }
   ],
   "source": [
    "# sort correlation\n",
    "helper.printHtml(\"To be more concrete, let's see all the correlation coefficients for all the columns with respect to G3 in decreasing order.\")\n",
    "corr['G3'].apply(lambda x: abs(x)).sort_values(ascending=False)"
   ]
  },
  {
   "cell_type": "code",
   "execution_count": 6,
   "metadata": {},
   "outputs": [
    {
     "data": {
      "text/html": [
       "<b>Check data distribution by testing skewness, 0 - symmetric, negative - left skewed, positive - right skewed.</b>"
      ],
      "text/plain": [
       "<IPython.core.display.HTML object>"
      ]
     },
     "metadata": {},
     "output_type": "display_data"
    },
    {
     "data": {
      "text/html": [
       "<b>Feature variability</b>"
      ],
      "text/plain": [
       "<IPython.core.display.HTML object>"
      ]
     },
     "metadata": {},
     "output_type": "display_data"
    },
    {
     "data": {
      "text/plain": [
       "absences    3.609018\n",
       "failures    2.748099\n",
       "Dalc        2.146276\n",
       "dtype: float64"
      ]
     },
     "metadata": {},
     "output_type": "display_data"
    },
    {
     "data": {
      "text/html": [
       "<b>There are few columns with asymetric distribution, this will affect predictive models, so data should be standardized.</b>"
      ],
      "text/plain": [
       "<IPython.core.display.HTML object>"
      ]
     },
     "metadata": {},
     "output_type": "display_data"
    }
   ],
   "source": [
    "def check_skewness():\n",
    "    helper.printHtml(\"Check data distribution by testing skewness, 0 - symmetric, negative - left skewed, positive - right skewed.\")\n",
    "    skewdata = df_mathdata.skew() \n",
    "    helper.display_data_all(\"Feature variability\", skewdata[abs(skewdata) > 2].sort_values(ascending=False))\n",
    "    helper.printHtml(\"There are few columns with asymetric distribution, this will affect predictive models, so data should be standardized.\")\n",
    "check_skewness()"
   ]
  },
  {
   "cell_type": "markdown",
   "metadata": {},
   "source": [
    "## Prediction\n",
    "\n",
    "#### As G3 is numerical value ranging from 0 to 20, we'll build regression model to predict G3.\n",
    "\n",
    "##### For regression task, all the column values have to be numeric, so so we'll check for categorical columns and convert them to numerics in this way:\n",
    "##### - columns with two values, for e.g, yes/no - make them 0/1\n",
    "##### - columns with more than two values - make a column for each value using one hot encoding process  "
   ]
  },
  {
   "cell_type": "code",
   "execution_count": 7,
   "metadata": {},
   "outputs": [
    {
     "data": {
      "text/html": [
       "<b>List of tansformed columns with count and unique values</b>"
      ],
      "text/plain": [
       "<IPython.core.display.HTML object>"
      ]
     },
     "metadata": {},
     "output_type": "display_data"
    },
    {
     "data": {
      "text/html": [
       "<div>\n",
       "<style scoped>\n",
       "    .dataframe tbody tr th:only-of-type {\n",
       "        vertical-align: middle;\n",
       "    }\n",
       "\n",
       "    .dataframe tbody tr th {\n",
       "        vertical-align: top;\n",
       "    }\n",
       "\n",
       "    .dataframe thead th {\n",
       "        text-align: right;\n",
       "    }\n",
       "</style>\n",
       "<table border=\"1\" class=\"dataframe\">\n",
       "  <thead>\n",
       "    <tr style=\"text-align: right;\">\n",
       "      <th></th>\n",
       "      <th>Column</th>\n",
       "      <th>Value Count</th>\n",
       "      <th>Values</th>\n",
       "    </tr>\n",
       "  </thead>\n",
       "  <tbody>\n",
       "    <tr>\n",
       "      <th>0</th>\n",
       "      <td>school</td>\n",
       "      <td>2</td>\n",
       "      <td>GP, MS</td>\n",
       "    </tr>\n",
       "    <tr>\n",
       "      <th>1</th>\n",
       "      <td>sex</td>\n",
       "      <td>2</td>\n",
       "      <td>F, M</td>\n",
       "    </tr>\n",
       "    <tr>\n",
       "      <th>2</th>\n",
       "      <td>address</td>\n",
       "      <td>2</td>\n",
       "      <td>U, R</td>\n",
       "    </tr>\n",
       "    <tr>\n",
       "      <th>3</th>\n",
       "      <td>famsize</td>\n",
       "      <td>2</td>\n",
       "      <td>GT3, LE3</td>\n",
       "    </tr>\n",
       "    <tr>\n",
       "      <th>4</th>\n",
       "      <td>Pstatus</td>\n",
       "      <td>2</td>\n",
       "      <td>A, T</td>\n",
       "    </tr>\n",
       "    <tr>\n",
       "      <th>5</th>\n",
       "      <td>Mjob</td>\n",
       "      <td>5</td>\n",
       "      <td>at_home, health, other, services, teacher</td>\n",
       "    </tr>\n",
       "    <tr>\n",
       "      <th>6</th>\n",
       "      <td>Fjob</td>\n",
       "      <td>5</td>\n",
       "      <td>teacher, other, services, health, at_home</td>\n",
       "    </tr>\n",
       "    <tr>\n",
       "      <th>7</th>\n",
       "      <td>reason</td>\n",
       "      <td>4</td>\n",
       "      <td>course, other, home, reputation</td>\n",
       "    </tr>\n",
       "    <tr>\n",
       "      <th>8</th>\n",
       "      <td>guardian</td>\n",
       "      <td>3</td>\n",
       "      <td>mother, father, other</td>\n",
       "    </tr>\n",
       "    <tr>\n",
       "      <th>9</th>\n",
       "      <td>schoolsup</td>\n",
       "      <td>2</td>\n",
       "      <td>yes, no</td>\n",
       "    </tr>\n",
       "    <tr>\n",
       "      <th>10</th>\n",
       "      <td>famsup</td>\n",
       "      <td>2</td>\n",
       "      <td>no, yes</td>\n",
       "    </tr>\n",
       "    <tr>\n",
       "      <th>11</th>\n",
       "      <td>paid</td>\n",
       "      <td>2</td>\n",
       "      <td>no, yes</td>\n",
       "    </tr>\n",
       "    <tr>\n",
       "      <th>12</th>\n",
       "      <td>activities</td>\n",
       "      <td>2</td>\n",
       "      <td>no, yes</td>\n",
       "    </tr>\n",
       "    <tr>\n",
       "      <th>13</th>\n",
       "      <td>nursery</td>\n",
       "      <td>2</td>\n",
       "      <td>yes, no</td>\n",
       "    </tr>\n",
       "    <tr>\n",
       "      <th>14</th>\n",
       "      <td>higher</td>\n",
       "      <td>2</td>\n",
       "      <td>yes, no</td>\n",
       "    </tr>\n",
       "    <tr>\n",
       "      <th>15</th>\n",
       "      <td>internet</td>\n",
       "      <td>2</td>\n",
       "      <td>no, yes</td>\n",
       "    </tr>\n",
       "    <tr>\n",
       "      <th>16</th>\n",
       "      <td>romantic</td>\n",
       "      <td>2</td>\n",
       "      <td>no, yes</td>\n",
       "    </tr>\n",
       "  </tbody>\n",
       "</table>\n",
       "</div>"
      ],
      "text/plain": [
       "        Column Value Count                                     Values\n",
       "0       school           2                                     GP, MS\n",
       "1          sex           2                                       F, M\n",
       "2      address           2                                       U, R\n",
       "3      famsize           2                                   GT3, LE3\n",
       "4      Pstatus           2                                       A, T\n",
       "5         Mjob           5  at_home, health, other, services, teacher\n",
       "6         Fjob           5  teacher, other, services, health, at_home\n",
       "7       reason           4            course, other, home, reputation\n",
       "8     guardian           3                      mother, father, other\n",
       "9    schoolsup           2                                    yes, no\n",
       "10      famsup           2                                    no, yes\n",
       "11        paid           2                                    no, yes\n",
       "12  activities           2                                    no, yes\n",
       "13     nursery           2                                    yes, no\n",
       "14      higher           2                                    yes, no\n",
       "15    internet           2                                    no, yes\n",
       "16    romantic           2                                    no, yes"
      ]
     },
     "metadata": {},
     "output_type": "display_data"
    }
   ],
   "source": [
    "def transform_categorical_columns():\n",
    "    global df_mathdata\n",
    "    df_categorical_columns = pd.DataFrame(columns=['Column', 'Value Count', 'Values'])\n",
    "    # categorical columns are those with value type 'object'\n",
    "    categorical_columns = df_mathdata.columns[df_mathdata.dtypes == object]\n",
    "    # make columns with two values as 0/1\n",
    "    for i in range(len(categorical_columns)):\n",
    "        colname = categorical_columns[i]\n",
    "        unique_values = df_mathdata[colname].unique()\n",
    "        unique_count = len(unique_values);\n",
    "        first_unique_value = unique_values[0]\n",
    "       # helper.printHtml(\"column {} has  {} values: {}\".format())\n",
    "        df_categorical_columns = df_categorical_columns.append({'Column':colname, \n",
    "                                                                  'Value Count':unique_count, \n",
    "                                                                  'Values':\", \".join(unique_values)}, ignore_index=True)\n",
    "        if (unique_count == 2):\n",
    "            df_mathdata[colname] = (df_mathdata[colname] == first_unique_value)*1\n",
    "        elif(unique_count > 2):\n",
    "            df = pd.get_dummies(df_mathdata[colname], prefix=colname, drop_first=True)\n",
    "            df_mathdata = df_mathdata.drop(columns=[colname])\n",
    "            df_mathdata = pd.concat([df_mathdata, df], axis=1)\n",
    "    helper.display_data(\"List of tansformed columns with count and unique values\", df_categorical_columns, len(categorical_columns))    \n",
    "            \n",
    "#read_data()\n",
    "#process_data()\n",
    "transform_categorical_columns();"
   ]
  },
  {
   "cell_type": "code",
   "execution_count": 8,
   "metadata": {},
   "outputs": [
    {
     "data": {
      "text/html": [
       "<b>We'll predict G3 using different feature sets with and without G1, G2.</b>"
      ],
      "text/plain": [
       "<IPython.core.display.HTML object>"
      ]
     },
     "metadata": {},
     "output_type": "display_data"
    },
    {
     "data": {
      "text/html": [
       "<b>For the regression models, we'll use R2 score as evaluation metric, calculate RMSE and plot graph between actual and predicted grades to see the error. </b>"
      ],
      "text/plain": [
       "<IPython.core.display.HTML object>"
      ]
     },
     "metadata": {},
     "output_type": "display_data"
    }
   ],
   "source": [
    "# define features space and target\n",
    "\n",
    "helper.printHtml(\"We'll predict G3 using different feature sets with and without G1, G2.\")\n",
    "all_feature_columns =  [col for col in df_mathdata.columns if col not in ['G3']]\n",
    "feature_columns_noG2 = [col for col in df_mathdata.columns if col not in [ 'G2', 'G3']]\n",
    "feature_columns_noG1G2 = [col for col in df_mathdata.columns if col not in ['G1', 'G2', 'G3']]\n",
    "features = df_mathdata.loc[:, feature_columns_noG1G2]\n",
    "target = df_mathdata['G3']\n",
    "helper.printHtml(\"For the regression models, we'll use R2 score as evaluation metric, calculate RMSE and plot graph between actual and predicted grades to see the error. \")"
   ]
  },
  {
   "cell_type": "code",
   "execution_count": 9,
   "metadata": {},
   "outputs": [
    {
     "data": {
      "text/html": [
       "<b>As there are 30+ features, let's get best 5 using Recursive Feature Elimination strategy using Linear Regression.</b>"
      ],
      "text/plain": [
       "<IPython.core.display.HTML object>"
      ]
     },
     "metadata": {},
     "output_type": "display_data"
    },
    {
     "data": {
      "image/png": "[encoded data removed]",
      "text/plain": [
       "<Figure size 432x288 with 1 Axes>"
      ]
     },
     "metadata": {
      "needs_background": "light"
     },
     "output_type": "display_data"
    },
    {
     "data": {
      "text/html": [
       "<b>List of features that have highest effect on G3, we'll use these for predicting G3.</b>"
      ],
      "text/plain": [
       "<IPython.core.display.HTML object>"
      ]
     },
     "metadata": {},
     "output_type": "display_data"
    },
    {
     "data": {
      "text/html": [
       "<div>\n",
       "<style scoped>\n",
       "    .dataframe tbody tr th:only-of-type {\n",
       "        vertical-align: middle;\n",
       "    }\n",
       "\n",
       "    .dataframe tbody tr th {\n",
       "        vertical-align: top;\n",
       "    }\n",
       "\n",
       "    .dataframe thead th {\n",
       "        text-align: right;\n",
       "    }\n",
       "</style>\n",
       "<table border=\"1\" class=\"dataframe\">\n",
       "  <thead>\n",
       "    <tr style=\"text-align: right;\">\n",
       "      <th></th>\n",
       "      <th>Column</th>\n",
       "    </tr>\n",
       "  </thead>\n",
       "  <tbody>\n",
       "    <tr>\n",
       "      <th>10</th>\n",
       "      <td>failures</td>\n",
       "    </tr>\n",
       "    <tr>\n",
       "      <th>11</th>\n",
       "      <td>schoolsup</td>\n",
       "    </tr>\n",
       "    <tr>\n",
       "      <th>26</th>\n",
       "      <td>Mjob_health</td>\n",
       "    </tr>\n",
       "    <tr>\n",
       "      <th>28</th>\n",
       "      <td>Mjob_services</td>\n",
       "    </tr>\n",
       "    <tr>\n",
       "      <th>33</th>\n",
       "      <td>Fjob_teacher</td>\n",
       "    </tr>\n",
       "  </tbody>\n",
       "</table>\n",
       "</div>"
      ],
      "text/plain": [
       "           Column\n",
       "10       failures\n",
       "11      schoolsup\n",
       "26    Mjob_health\n",
       "28  Mjob_services\n",
       "33   Fjob_teacher"
      ]
     },
     "metadata": {},
     "output_type": "display_data"
    }
   ],
   "source": [
    "def top_five_with_lr():\n",
    "    helper.printHtml(\"As there are 30+ features, let's get best 5 using Recursive Feature Elimination strategy using Linear Regression.\")\n",
    "    # Create a linear regression\n",
    "    ols = LinearRegression()\n",
    "    # Recursively eliminate features\n",
    "    rfecv = RFECV(ols, scoring=\"neg_mean_squared_error\")\n",
    "\n",
    "    rfecv.fit(features, target)\n",
    "    rfecv.show()\n",
    "    rfecv.transform(features)\n",
    "    # Number of best features\n",
    "    bestfeaturecount = rfecv.n_features_\n",
    "    bestfeaturesdf = pd.DataFrame({'Best': rfecv.support_, 'Ranking': rfecv.ranking_, 'Column': features.columns})\n",
    "    best_five_features = bestfeaturesdf[bestfeaturesdf.Best == True][['Column']]\n",
    "    helper.display_data(\"List of features that have highest effect on G3, we'll use these for predicting G3.\", best_five_features, 5)\n",
    "    return best_five_features.values.flatten()\n",
    "\n",
    "best_five_features = top_five_with_lr()"
   ]
  },
  {
   "cell_type": "code",
   "execution_count": 10,
   "metadata": {},
   "outputs": [
    {
     "data": {
      "text/html": [
       "<b>Looks like failures, school support and parent's conditions have effect on grade. Let's use decision tree regression as it's one of the simplistic modelling techinque and check predictions.</b>"
      ],
      "text/plain": [
       "<IPython.core.display.HTML object>"
      ]
     },
     "metadata": {},
     "output_type": "display_data"
    }
   ],
   "source": [
    "helper.printHtml(\"Looks like failures, school support and parent's conditions have effect on grade. Let's use decision tree regression as it's one of the simplistic modelling techinque and check predictions.\")"
   ]
  },
  {
   "cell_type": "code",
   "execution_count": 11,
   "metadata": {},
   "outputs": [
    {
     "data": {
      "text/html": [
       "<b>Using Decision Tree Regression technique</b>"
      ],
      "text/plain": [
       "<IPython.core.display.HTML object>"
      ]
     },
     "metadata": {},
     "output_type": "display_data"
    },
    {
     "data": {
      "image/png": "[encoded data removed]",
      "text/plain": [
       "<Figure size 864x288 with 2 Axes>"
      ]
     },
     "metadata": {
      "needs_background": "light"
     },
     "output_type": "display_data"
    }
   ],
   "source": [
    "def predict_decisiontree(predictor_columns):\n",
    "    helper.printHtml(\"Using Decision Tree Regression technique\")\n",
    "    features = df_mathdata.loc[:, predictor_columns]\n",
    "    scaler = StandardScaler()\n",
    "    features_standardized = scaler.fit_transform(features)\n",
    "    \n",
    "    features_train, features_test, target_train, target_test = train_test_split(features_standardized, target, test_size=0.3) \n",
    "    skf = StratifiedKFold(n_splits=10, shuffle=True, random_state=1)\n",
    "    dtRegressor = DecisionTreeRegressor()\n",
    "    cv_results = cross_val_score(dtRegressor, features_train, target_train, cv=skf, n_jobs=-1) \n",
    "    RMSE = cv_results.mean()\n",
    "    dtRegressor.fit(features_train, target_train)\n",
    "    y_pred = dtRegressor.predict(features_test)\n",
    "    RMSE = abs(cv_results.mean())\n",
    "    Score = abs(r2_score(target_test, y_pred))\n",
    "    helper.evaluate_model('Using 5 best features', 'Decision tree', RMSE, Score, \n",
    "                  target_test, y_pred, \n",
    "                  dtRegressor.feature_importances_,\n",
    "                  features.columns)\n",
    "    return round(Score,2)\n",
    "    \n",
    "accuracy = predict_decisiontree(best_five_features)"
   ]
  },
  {
   "cell_type": "code",
   "execution_count": 12,
   "metadata": {},
   "outputs": [
    {
     "data": {
      "text/html": [
       "<b>Prediction accuracy - 0.06 is very low, that means it's tough to predict final grade using decision tree model with 5 best features. Let's use more features and predict using other models such as Ridge, Lasso, Random Forest regression.</b>"
      ],
      "text/plain": [
       "<IPython.core.display.HTML object>"
      ]
     },
     "metadata": {},
     "output_type": "display_data"
    }
   ],
   "source": [
    "helper.printHtml(\"Prediction accuracy - {} is very low, that means it's tough to predict final grade using decision tree model with 5 best features. Let's use more features and predict using other models such as Ridge, Lasso, Random Forest regression.\".format(accuracy))"
   ]
  },
  {
   "cell_type": "code",
   "execution_count": 13,
   "metadata": {},
   "outputs": [],
   "source": [
    "# Function to pick best regresion model from Ridge, Lasso, Random Forest models   \n",
    "def gridsearch_predict(category, predictor_columns):\n",
    "    helper.printHtml(\"Predicting with {} columns {} using GridSearch for Ridge, Lasso, Random Forest models.\".format(len(predictor_columns), category))\n",
    "    alphas = [0.001, 0.1, 0.5, 1, 5, 10]\n",
    "    pipe = Pipeline([(\"reg\", LinearRegression())])\n",
    "    search_space = ([\n",
    "        {\n",
    "            \"reg\": [Ridge()],\n",
    "            \"reg__alpha\": alphas\n",
    "        },\n",
    "        {\n",
    "            \"reg\": [Lasso()],\n",
    "            \"reg__alpha\": alphas                      \n",
    "        },\n",
    "        {\n",
    "            \"reg\": [RandomForestRegressor()],\n",
    "            \"reg__max_depth\": [5,10]\n",
    "        }\n",
    "    ]);\n",
    "    \n",
    "    scaler = StandardScaler()\n",
    "    features = scaler.fit_transform(df_mathdata.loc[:, predictor_columns])\n",
    "    X_train, X_test, y_train, y_test = train_test_split(features, target, test_size=0.3) \n",
    "\n",
    "    skf = StratifiedKFold(n_splits=10, shuffle=True, random_state=1)\n",
    "    gridsearchmse  = GridSearchCV(pipe, search_space, scoring='neg_mean_squared_error', cv=skf)\n",
    "    best_model = gridsearchmse.fit(X_train, y_train)\n",
    "    y_pred = best_model.predict(X_test)\n",
    "\n",
    "    RMSE= abs(best_model.best_score_)\n",
    "    Score = r2_score(y_test, y_pred)\n",
    "    regressor = best_model.best_estimator_.named_steps['reg']\n",
    "    modelType = get_model_name(best_model.best_estimator_)\n",
    " \n",
    "    if (modelType == 'Random Forest'):\n",
    "        coeffs = regressor.feature_importances_\n",
    "    else:\n",
    "        coeffs = regressor.coef_\n",
    "\n",
    "    helper.evaluate_model(category, modelType, RMSE, Score, y_test, y_pred, coeffs, predictor_columns)\n",
    "    plt.show()\n",
    "    helper.printHtml('Out of all the regression models - {} performed best.'.format(modelType))\n",
    "    return round(Score,2)\n",
    "    \n",
    "# Function will return Random Forest, Ridge, Lasso model name from estimator,\n",
    "def get_model_name(estimator):\n",
    "    name = 'Random Forest'\n",
    "    for k,v in estimator.get_params(\"reg\").items():\n",
    "        if ( k == 'reg'):\n",
    "            t = type(v)\n",
    "            if ( t is Lasso):\n",
    "                name = 'Lasso'\n",
    "            elif (t is Ridge):\n",
    "                name = 'Ridge'\n",
    "    return name\n"
   ]
  },
  {
   "cell_type": "code",
   "execution_count": 14,
   "metadata": {},
   "outputs": [
    {
     "data": {
      "text/html": [
       "<b>Predicting with 5 columns the best five features using GridSearch for Ridge, Lasso, Random Forest models.</b>"
      ],
      "text/plain": [
       "<IPython.core.display.HTML object>"
      ]
     },
     "metadata": {},
     "output_type": "display_data"
    },
    {
     "data": {
      "image/png": "[encoded data removed]",
      "text/plain": [
       "<Figure size 864x288 with 2 Axes>"
      ]
     },
     "metadata": {
      "needs_background": "light"
     },
     "output_type": "display_data"
    },
    {
     "data": {
      "text/html": [
       "<b>Out of all the regression models - Ridge performed best.</b>"
      ],
      "text/plain": [
       "<IPython.core.display.HTML object>"
      ]
     },
     "metadata": {},
     "output_type": "display_data"
    },
    {
     "data": {
      "text/html": [
       "<b>Prediction accuracy - 0.21 isn't great, let's try all features.</b>"
      ],
      "text/plain": [
       "<IPython.core.display.HTML object>"
      ]
     },
     "metadata": {},
     "output_type": "display_data"
    },
    {
     "data": {
      "text/html": [
       "<b>Predicting with 41 columns including G1, G2 using GridSearch for Ridge, Lasso, Random Forest models.</b>"
      ],
      "text/plain": [
       "<IPython.core.display.HTML object>"
      ]
     },
     "metadata": {},
     "output_type": "display_data"
    },
    {
     "data": {
      "image/png": "[encoded data removed]",
      "text/plain": [
       "<Figure size 864x288 with 2 Axes>"
      ]
     },
     "metadata": {
      "needs_background": "light"
     },
     "output_type": "display_data"
    },
    {
     "data": {
      "text/html": [
       "<b>Out of all the regression models - Lasso performed best.</b>"
      ],
      "text/plain": [
       "<IPython.core.display.HTML object>"
      ]
     },
     "metadata": {},
     "output_type": "display_data"
    }
   ],
   "source": [
    "accuracy = gridsearch_predict(\"the best five features\", best_five_features)\n",
    "helper.printHtml(\"Prediction accuracy - {} isn't great, let's try all features.\".format(accuracy))\n",
    "accuracy = gridsearch_predict('including G1, G2', all_feature_columns)"
   ]
  },
  {
   "cell_type": "code",
   "execution_count": 15,
   "metadata": {},
   "outputs": [
    {
     "data": {
      "text/html": [
       "<b>G2 is a good predictor with Prediction accuracy - 0.93 , let's take out G2 and see if final grade G3 can be predicted.</b>"
      ],
      "text/plain": [
       "<IPython.core.display.HTML object>"
      ]
     },
     "metadata": {},
     "output_type": "display_data"
    },
    {
     "data": {
      "text/html": [
       "<b>Predicting with 40 columns excluding G2 using GridSearch for Ridge, Lasso, Random Forest models.</b>"
      ],
      "text/plain": [
       "<IPython.core.display.HTML object>"
      ]
     },
     "metadata": {},
     "output_type": "display_data"
    },
    {
     "data": {
      "image/png": "[encoded data removed]",
      "text/plain": [
       "<Figure size 864x288 with 2 Axes>"
      ]
     },
     "metadata": {
      "needs_background": "light"
     },
     "output_type": "display_data"
    },
    {
     "data": {
      "text/html": [
       "<b>Out of all the regression models - Lasso performed best.</b>"
      ],
      "text/plain": [
       "<IPython.core.display.HTML object>"
      ]
     },
     "metadata": {},
     "output_type": "display_data"
    }
   ],
   "source": [
    "helper.printHtml(\"G2 is a good predictor with Prediction accuracy - {} , let's take out G2 and see if final grade G3 can be predicted.\".format(accuracy))\n",
    "accuracy = gridsearch_predict('excluding G2', feature_columns_noG2)"
   ]
  },
  {
   "cell_type": "code",
   "execution_count": 16,
   "metadata": {},
   "outputs": [
    {
     "data": {
      "text/html": [
       "<b>Taking out G2, reduced the prediction accuracy to 0.82, let's take G1 out too and try predicting G3.</b>"
      ],
      "text/plain": [
       "<IPython.core.display.HTML object>"
      ]
     },
     "metadata": {},
     "output_type": "display_data"
    },
    {
     "data": {
      "text/html": [
       "<b>Predicting with 39 columns excluding G1, G2 using GridSearch for Ridge, Lasso, Random Forest models.</b>"
      ],
      "text/plain": [
       "<IPython.core.display.HTML object>"
      ]
     },
     "metadata": {},
     "output_type": "display_data"
    },
    {
     "data": {
      "image/png": "[encoded data removed]",
      "text/plain": [
       "<Figure size 864x288 with 2 Axes>"
      ]
     },
     "metadata": {
      "needs_background": "light"
     },
     "output_type": "display_data"
    },
    {
     "data": {
      "text/html": [
       "<b>Out of all the regression models - Lasso performed best.</b>"
      ],
      "text/plain": [
       "<IPython.core.display.HTML object>"
      ]
     },
     "metadata": {},
     "output_type": "display_data"
    },
    {
     "data": {
      "text/html": [
       "<b>Taking out G1 and G2, prediction accuracy dropped off to 0.17.</b>"
      ],
      "text/plain": [
       "<IPython.core.display.HTML object>"
      ]
     },
     "metadata": {},
     "output_type": "display_data"
    }
   ],
   "source": [
    "helper.printHtml(\"Taking out G2, reduced the prediction accuracy to {}, let's take G1 out too and try predicting G3.\".format(accuracy))\n",
    "accuracy = gridsearch_predict('excluding G1, G2', feature_columns_noG1G2)\n",
    "helper.printHtml(\"Taking out G1 and G2, prediction accuracy dropped off to {}.\".format(accuracy))"
   ]
  },
  {
   "cell_type": "markdown",
   "metadata": {},
   "source": [
    "## Conclusion"
   ]
  },
  {
   "cell_type": "code",
   "execution_count": 17,
   "metadata": {},
   "outputs": [
    {
     "data": {
      "text/html": [
       "<b>Summary of all the models that we've run with R2 score as predicton accuracy.</b>"
      ],
      "text/plain": [
       "<IPython.core.display.HTML object>"
      ]
     },
     "metadata": {},
     "output_type": "display_data"
    },
    {
     "data": {
      "text/html": [
       "<div>\n",
       "<style scoped>\n",
       "    .dataframe tbody tr th:only-of-type {\n",
       "        vertical-align: middle;\n",
       "    }\n",
       "\n",
       "    .dataframe tbody tr th {\n",
       "        vertical-align: top;\n",
       "    }\n",
       "\n",
       "    .dataframe thead th {\n",
       "        text-align: right;\n",
       "    }\n",
       "</style>\n",
       "<table border=\"1\" class=\"dataframe\">\n",
       "  <thead>\n",
       "    <tr style=\"text-align: right;\">\n",
       "      <th></th>\n",
       "      <th>Model</th>\n",
       "      <th>Feature Description</th>\n",
       "      <th>RMSE</th>\n",
       "      <th>R2 Score</th>\n",
       "      <th>Selected Features</th>\n",
       "    </tr>\n",
       "  </thead>\n",
       "  <tbody>\n",
       "    <tr>\n",
       "      <th>2</th>\n",
       "      <td>Lasso</td>\n",
       "      <td>including G1, G2</td>\n",
       "      <td>0.700115</td>\n",
       "      <td>0.934497</td>\n",
       "      <td>[G2,2.7\\r, G1,0.23\\r, famrel,0.02\\r, paid,0.01\\r, guardian_other,-0.0\\r]</td>\n",
       "    </tr>\n",
       "    <tr>\n",
       "      <th>3</th>\n",
       "      <td>Lasso</td>\n",
       "      <td>excluding G2</td>\n",
       "      <td>2.114862</td>\n",
       "      <td>0.816469</td>\n",
       "      <td>[G1,2.66\\r, Medu,0.13\\r, school,0.11\\r, famrel,0.1\\r, address,0.01\\r]</td>\n",
       "    </tr>\n",
       "    <tr>\n",
       "      <th>1</th>\n",
       "      <td>Ridge</td>\n",
       "      <td>the best five features</td>\n",
       "      <td>9.078777</td>\n",
       "      <td>0.214393</td>\n",
       "      <td>[Mjob_health,0.48\\r, Mjob_services,0.45\\r, Fjob_teacher,0.31\\r, failures,-0.73\\r, schoolsup,-0.81\\r]</td>\n",
       "    </tr>\n",
       "    <tr>\n",
       "      <th>4</th>\n",
       "      <td>Lasso</td>\n",
       "      <td>excluding G1, G2</td>\n",
       "      <td>7.929176</td>\n",
       "      <td>0.170448</td>\n",
       "      <td>[Fjob_teacher,0.42\\r, Mjob_services,0.38\\r, Mjob_health,0.28\\r, Medu,0.27\\r, studytime,0.25\\r]</td>\n",
       "    </tr>\n",
       "    <tr>\n",
       "      <th>0</th>\n",
       "      <td>Decision tree</td>\n",
       "      <td>Using 5 best features</td>\n",
       "      <td>0.202710</td>\n",
       "      <td>0.061787</td>\n",
       "      <td>[failures,0.34\\r, schoolsup,0.23\\r, Mjob_services,0.16\\r, Mjob_health,0.16\\r, Fjob_teacher,0.1\\r]</td>\n",
       "    </tr>\n",
       "  </tbody>\n",
       "</table>\n",
       "</div>"
      ],
      "text/plain": [
       "           Model     Feature Description      RMSE  R2 Score  \\\n",
       "2  Lasso          including G1, G2        0.700115  0.934497   \n",
       "3  Lasso          excluding G2            2.114862  0.816469   \n",
       "1  Ridge          the best five features  9.078777  0.214393   \n",
       "4  Lasso          excluding G1, G2        7.929176  0.170448   \n",
       "0  Decision tree  Using 5 best features   0.202710  0.061787   \n",
       "\n",
       "                                                                                      Selected Features  \n",
       "2  [G2,2.7\\r, G1,0.23\\r, famrel,0.02\\r, paid,0.01\\r, guardian_other,-0.0\\r]                              \n",
       "3  [G1,2.66\\r, Medu,0.13\\r, school,0.11\\r, famrel,0.1\\r, address,0.01\\r]                                 \n",
       "1  [Mjob_health,0.48\\r, Mjob_services,0.45\\r, Fjob_teacher,0.31\\r, failures,-0.73\\r, schoolsup,-0.81\\r]  \n",
       "4  [Fjob_teacher,0.42\\r, Mjob_services,0.38\\r, Mjob_health,0.28\\r, Medu,0.27\\r, studytime,0.25\\r]        \n",
       "0  [failures,0.34\\r, schoolsup,0.23\\r, Mjob_services,0.16\\r, Mjob_health,0.16\\r, Fjob_teacher,0.1\\r]     "
      ]
     },
     "metadata": {},
     "output_type": "display_data"
    },
    {
     "data": {
      "text/html": [
       "<b>The prediction accuracy decreases as we remove G2 and G1.</b>"
      ],
      "text/plain": [
       "<IPython.core.display.HTML object>"
      ]
     },
     "metadata": {},
     "output_type": "display_data"
    }
   ],
   "source": [
    "helper.print_metrics(\"Summary of all the models that we've run with R2 score as predicton accuracy.\")\n",
    "helper.printHtml(\"The prediction accuracy decreases as we remove G2 and G1.\")"
   ]
  },
  {
   "cell_type": "code",
   "execution_count": 18,
   "metadata": {},
   "outputs": [
    {
     "data": {
      "text/html": [
       "<b>Final grade can be highly predicted from Grade 2, moderately from Grade 1, however it's tough to predict without those two grades. </b>"
      ],
      "text/plain": [
       "<IPython.core.display.HTML object>"
      ]
     },
     "metadata": {},
     "output_type": "display_data"
    },
    {
     "data": {
      "text/html": [
       "<b>After first and second tests, school officials can work with low performing students to help with their studies and improve grade.</b>"
      ],
      "text/plain": [
       "<IPython.core.display.HTML object>"
      ]
     },
     "metadata": {},
     "output_type": "display_data"
    },
    {
     "data": {
      "text/html": [
       "<b>As an extension to the project, the grade range can be divided into groups for e.g., 0-5 - Level 1, 6-8 as Level 2, 10-12 as Level 3, make this a classification problem and predict grade levels.</b>"
      ],
      "text/plain": [
       "<IPython.core.display.HTML object>"
      ]
     },
     "metadata": {},
     "output_type": "display_data"
    }
   ],
   "source": [
    "helper.printHtml(\"Final grade can be highly predicted from Grade 2, moderately from Grade 1, however it's tough to predict without those two grades. \")\n",
    "helper.printHtml(\"After first and second tests, school officials can work with low performing students to help with their studies and improve grade.\")\n",
    "helper.printHtml(\"As an extension to the project, the grade range can be divided into groups for e.g., 0-5 - Level 1, 6-8 as Level 2, 10-12 as Level 3, make this a classification problem and predict grade levels.\")"
   ]
  }
 ],
 "metadata": {
  "kernelspec": {
   "display_name": "Python 3",
   "language": "python",
   "name": "python3"
  },
  "language_info": {
   "codemirror_mode": {
    "name": "ipython",
    "version": 3
   },
   "file_extension": ".py",
   "mimetype": "text/x-python",
   "name": "python",
   "nbconvert_exporter": "python",
   "pygments_lexer": "ipython3",
   "version": "3.7.3"
  }
 },
 "nbformat": 4,
 "nbformat_minor": 4
}
