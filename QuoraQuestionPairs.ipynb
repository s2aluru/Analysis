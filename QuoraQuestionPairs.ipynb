{
 "cells": [
  {
   "cell_type": "markdown",
   "metadata": {},
   "source": [
    "# Predict duplicate questions on Quora\n",
    "\n",
    "Step 1: Read data and perform EDA. \n",
    "    \n",
    "Step 2: Preprocess data by removing punctuations, regular expressions, special characters, letter case, digits\n",
    "\n",
    "Step 3: Visualize words using t-SNE\n",
    "\n",
    "Step 4: Convert word to vectors and identify duplicate questions using cosine similarity\n"
   ]
  },
  {
   "cell_type": "code",
   "execution_count": 69,
   "metadata": {},
   "outputs": [
    {
     "data": {
      "text/html": [
       "        <script type=\"text/javascript\">\n",
       "        window.PlotlyConfig = {MathJaxConfig: 'local'};\n",
       "        if (window.MathJax) {MathJax.Hub.Config({SVG: {font: \"STIX-Web\"}});}\n",
       "        if (typeof require !== 'undefined') {\n",
       "        require.undef(\"plotly\");\n",
       "        requirejs.config({\n",
       "            paths: {\n",
       "                'plotly': ['https://cdn.plot.ly/plotly-latest.min']\n",
       "            }\n",
       "        });\n",
       "        require(['plotly'], function(Plotly) {\n",
       "            window._Plotly = Plotly;\n",
       "        });\n",
       "        }\n",
       "        </script>\n",
       "        "
      ]
     },
     "metadata": {},
     "output_type": "display_data"
    }
   ],
   "source": [
    "import numpy as np\n",
    "import pandas as pd \n",
    "from collections import Counter\n",
    "import operator, re, os, gc, string\n",
    "from copy import deepcopy\n",
    "import warnings\n",
    "warnings.filterwarnings('ignore')\n",
    "\n",
    "import gensim\n",
    "from gensim import corpora\n",
    "from nltk.corpus import stopwords\n",
    "from nltk import word_tokenize, ngrams\n",
    "from sklearn.manifold import TSNE\n",
    "from sklearn.preprocessing import MinMaxScaler\n",
    "from sklearn.feature_extraction.text import TfidfVectorizer, HashingVectorizer\n",
    "from sklearn.model_selection import train_test_split\n",
    "from sklearn.metrics import log_loss, accuracy_score, classification_report\n",
    "\n",
    "import seaborn as sns\n",
    "import matplotlib.pyplot as plt\n",
    "from subprocess import check_output\n",
    "%matplotlib inline\n",
    "import plotly.offline as py\n",
    "py.init_notebook_mode(connected=True)\n",
    "import plotly.graph_objs as go\n",
    "import plotly.tools as tls\n",
    "pal = sns.color_palette()\n",
    "color = sns.color_palette()\n",
    "pd.set_option('expand_frame_repr', False)\n",
    "pd.set_option('display.max_colwidth', -1)\n",
    "pd.options.mode.chained_assignment = None  # default='warn'\n",
    "\n",
    "words = re.compile(r\"\\w+\",re.I)\n",
    "stopword = stopwords.words('english')"
   ]
  },
  {
   "cell_type": "code",
   "execution_count": 2,
   "metadata": {},
   "outputs": [],
   "source": [
    "# read data\n",
    "train = pd.read_csv(\"qa_train.csv\").fillna(\"\")\n",
    "test = pd.read_csv(\"qa_test.csv\").fillna(\"\")"
   ]
  },
  {
   "cell_type": "code",
   "execution_count": 3,
   "metadata": {},
   "outputs": [
    {
     "name": "stdout",
     "output_type": "stream",
     "text": [
      "(49999, 6)\n",
      "(49999, 5)\n"
     ]
    }
   ],
   "source": [
    "# check # of rows and columns in test and train data\n",
    "print(train.shape)\n",
    "print(test.shape)"
   ]
  },
  {
   "cell_type": "code",
   "execution_count": 4,
   "metadata": {},
   "outputs": [
    {
     "name": "stdout",
     "output_type": "stream",
     "text": [
      "<class 'pandas.core.frame.DataFrame'>\n",
      "RangeIndex: 49999 entries, 0 to 49998\n",
      "Data columns (total 6 columns):\n",
      "id              49999 non-null int64\n",
      "qid1            49999 non-null int64\n",
      "qid2            49999 non-null int64\n",
      "question1       49999 non-null object\n",
      "question2       49999 non-null object\n",
      "is_duplicate    49999 non-null int64\n",
      "dtypes: int64(4), object(2)\n",
      "memory usage: 2.3+ MB\n"
     ]
    }
   ],
   "source": [
    "# check train dataset \n",
    "train.info()"
   ]
  },
  {
   "cell_type": "markdown",
   "metadata": {},
   "source": [
    "We have eight columns and is_duplicate is the classification label"
   ]
  },
  {
   "cell_type": "code",
   "execution_count": 5,
   "metadata": {},
   "outputs": [
    {
     "name": "stdout",
     "output_type": "stream",
     "text": [
      "Let\"s check first 5 rows\n"
     ]
    },
    {
     "data": {
      "text/html": [
       "<div>\n",
       "<style scoped>\n",
       "    .dataframe tbody tr th:only-of-type {\n",
       "        vertical-align: middle;\n",
       "    }\n",
       "\n",
       "    .dataframe tbody tr th {\n",
       "        vertical-align: top;\n",
       "    }\n",
       "\n",
       "    .dataframe thead th {\n",
       "        text-align: right;\n",
       "    }\n",
       "</style>\n",
       "<table border=\"1\" class=\"dataframe\">\n",
       "  <thead>\n",
       "    <tr style=\"text-align: right;\">\n",
       "      <th></th>\n",
       "      <th>id</th>\n",
       "      <th>qid1</th>\n",
       "      <th>qid2</th>\n",
       "      <th>question1</th>\n",
       "      <th>question2</th>\n",
       "      <th>is_duplicate</th>\n",
       "    </tr>\n",
       "  </thead>\n",
       "  <tbody>\n",
       "    <tr>\n",
       "      <th>0</th>\n",
       "      <td>0</td>\n",
       "      <td>1</td>\n",
       "      <td>2</td>\n",
       "      <td>What is the step by step guide to invest in share market in india?</td>\n",
       "      <td>What is the step by step guide to invest in share market?</td>\n",
       "      <td>0</td>\n",
       "    </tr>\n",
       "    <tr>\n",
       "      <th>1</th>\n",
       "      <td>1</td>\n",
       "      <td>3</td>\n",
       "      <td>4</td>\n",
       "      <td>What is the story of Kohinoor (Koh-i-Noor) Diamond?</td>\n",
       "      <td>What would happen if the Indian government stole the Kohinoor (Koh-i-Noor) diamond back?</td>\n",
       "      <td>0</td>\n",
       "    </tr>\n",
       "    <tr>\n",
       "      <th>2</th>\n",
       "      <td>2</td>\n",
       "      <td>5</td>\n",
       "      <td>6</td>\n",
       "      <td>How can I increase the speed of my internet connection while using a VPN?</td>\n",
       "      <td>How can Internet speed be increased by hacking through DNS?</td>\n",
       "      <td>0</td>\n",
       "    </tr>\n",
       "    <tr>\n",
       "      <th>3</th>\n",
       "      <td>3</td>\n",
       "      <td>7</td>\n",
       "      <td>8</td>\n",
       "      <td>Why am I mentally very lonely? How can I solve it?</td>\n",
       "      <td>Find the remainder when [math]23^{24}[/math] is divided by 24,23?</td>\n",
       "      <td>0</td>\n",
       "    </tr>\n",
       "    <tr>\n",
       "      <th>4</th>\n",
       "      <td>4</td>\n",
       "      <td>9</td>\n",
       "      <td>10</td>\n",
       "      <td>Which one dissolve in water quikly sugar, salt, methane and carbon di oxide?</td>\n",
       "      <td>Which fish would survive in salt water?</td>\n",
       "      <td>0</td>\n",
       "    </tr>\n",
       "  </tbody>\n",
       "</table>\n",
       "</div>"
      ],
      "text/plain": [
       "   id  qid1  qid2                                                                     question1                                                                                 question2  is_duplicate\n",
       "0  0   1     2     What is the step by step guide to invest in share market in india?            What is the step by step guide to invest in share market?                                 0           \n",
       "1  1   3     4     What is the story of Kohinoor (Koh-i-Noor) Diamond?                           What would happen if the Indian government stole the Kohinoor (Koh-i-Noor) diamond back?  0           \n",
       "2  2   5     6     How can I increase the speed of my internet connection while using a VPN?     How can Internet speed be increased by hacking through DNS?                               0           \n",
       "3  3   7     8     Why am I mentally very lonely? How can I solve it?                            Find the remainder when [math]23^{24}[/math] is divided by 24,23?                         0           \n",
       "4  4   9     10    Which one dissolve in water quikly sugar, salt, methane and carbon di oxide?  Which fish would survive in salt water?                                                   0           "
      ]
     },
     "execution_count": 5,
     "metadata": {},
     "output_type": "execute_result"
    }
   ],
   "source": [
    "print('Let\"s check first 5 rows')\n",
    "train.head()"
   ]
  },
  {
   "cell_type": "code",
   "execution_count": 6,
   "metadata": {},
   "outputs": [
    {
     "name": "stdout",
     "output_type": "stream",
     "text": [
      "None of firt five rows are duplicate, let\"s check duplicate questions\n"
     ]
    },
    {
     "data": {
      "text/html": [
       "<div>\n",
       "<style scoped>\n",
       "    .dataframe tbody tr th:only-of-type {\n",
       "        vertical-align: middle;\n",
       "    }\n",
       "\n",
       "    .dataframe tbody tr th {\n",
       "        vertical-align: top;\n",
       "    }\n",
       "\n",
       "    .dataframe thead th {\n",
       "        text-align: right;\n",
       "    }\n",
       "</style>\n",
       "<table border=\"1\" class=\"dataframe\">\n",
       "  <thead>\n",
       "    <tr style=\"text-align: right;\">\n",
       "      <th></th>\n",
       "      <th>id</th>\n",
       "      <th>qid1</th>\n",
       "      <th>qid2</th>\n",
       "      <th>question1</th>\n",
       "      <th>question2</th>\n",
       "      <th>is_duplicate</th>\n",
       "    </tr>\n",
       "  </thead>\n",
       "  <tbody>\n",
       "    <tr>\n",
       "      <th>5</th>\n",
       "      <td>5</td>\n",
       "      <td>11</td>\n",
       "      <td>12</td>\n",
       "      <td>Astrology: I am a Capricorn Sun Cap moon and cap rising...what does that say about me?</td>\n",
       "      <td>I'm a triple Capricorn (Sun, Moon and ascendant in Capricorn) What does this say about me?</td>\n",
       "      <td>1</td>\n",
       "    </tr>\n",
       "    <tr>\n",
       "      <th>7</th>\n",
       "      <td>7</td>\n",
       "      <td>15</td>\n",
       "      <td>16</td>\n",
       "      <td>How can I be a good geologist?</td>\n",
       "      <td>What should I do to be a great geologist?</td>\n",
       "      <td>1</td>\n",
       "    </tr>\n",
       "    <tr>\n",
       "      <th>11</th>\n",
       "      <td>11</td>\n",
       "      <td>23</td>\n",
       "      <td>24</td>\n",
       "      <td>How do I read and find my YouTube comments?</td>\n",
       "      <td>How can I see all my Youtube comments?</td>\n",
       "      <td>1</td>\n",
       "    </tr>\n",
       "    <tr>\n",
       "      <th>12</th>\n",
       "      <td>12</td>\n",
       "      <td>25</td>\n",
       "      <td>26</td>\n",
       "      <td>What can make Physics easy to learn?</td>\n",
       "      <td>How can you make physics easy to learn?</td>\n",
       "      <td>1</td>\n",
       "    </tr>\n",
       "    <tr>\n",
       "      <th>13</th>\n",
       "      <td>13</td>\n",
       "      <td>27</td>\n",
       "      <td>28</td>\n",
       "      <td>What was your first sexual experience like?</td>\n",
       "      <td>What was your first sexual experience?</td>\n",
       "      <td>1</td>\n",
       "    </tr>\n",
       "  </tbody>\n",
       "</table>\n",
       "</div>"
      ],
      "text/plain": [
       "    id  qid1  qid2                                                                               question1                                                                                   question2  is_duplicate\n",
       "5   5   11    12    Astrology: I am a Capricorn Sun Cap moon and cap rising...what does that say about me?  I'm a triple Capricorn (Sun, Moon and ascendant in Capricorn) What does this say about me?  1           \n",
       "7   7   15    16    How can I be a good geologist?                                                          What should I do to be a great geologist?                                                   1           \n",
       "11  11  23    24    How do I read and find my YouTube comments?                                             How can I see all my Youtube comments?                                                      1           \n",
       "12  12  25    26    What can make Physics easy to learn?                                                    How can you make physics easy to learn?                                                     1           \n",
       "13  13  27    28    What was your first sexual experience like?                                             What was your first sexual experience?                                                      1           "
      ]
     },
     "execution_count": 6,
     "metadata": {},
     "output_type": "execute_result"
    }
   ],
   "source": [
    "print('None of firt five rows are duplicate, let\"s check duplicate questions')\n",
    "train[train['is_duplicate']==1].head()"
   ]
  },
  {
   "cell_type": "code",
   "execution_count": 7,
   "metadata": {},
   "outputs": [
    {
     "data": {
      "text/html": [
       "<div>\n",
       "<style scoped>\n",
       "    .dataframe tbody tr th:only-of-type {\n",
       "        vertical-align: middle;\n",
       "    }\n",
       "\n",
       "    .dataframe tbody tr th {\n",
       "        vertical-align: top;\n",
       "    }\n",
       "\n",
       "    .dataframe thead th {\n",
       "        text-align: right;\n",
       "    }\n",
       "</style>\n",
       "<table border=\"1\" class=\"dataframe\">\n",
       "  <thead>\n",
       "    <tr style=\"text-align: right;\">\n",
       "      <th></th>\n",
       "      <th>id</th>\n",
       "      <th>qid1</th>\n",
       "      <th>qid2</th>\n",
       "      <th>question1</th>\n",
       "      <th>question2</th>\n",
       "    </tr>\n",
       "  </thead>\n",
       "  <tbody>\n",
       "    <tr>\n",
       "      <th>0</th>\n",
       "      <td>49999</td>\n",
       "      <td>88910</td>\n",
       "      <td>88911</td>\n",
       "      <td>Why can some people hold their liquor so much better than others?</td>\n",
       "      <td>How do you make malt liquor taste better?</td>\n",
       "    </tr>\n",
       "    <tr>\n",
       "      <th>1</th>\n",
       "      <td>50000</td>\n",
       "      <td>88912</td>\n",
       "      <td>88913</td>\n",
       "      <td>Why is human cloning considered unethical?</td>\n",
       "      <td>Why is cloning considered unethical?</td>\n",
       "    </tr>\n",
       "    <tr>\n",
       "      <th>2</th>\n",
       "      <td>50001</td>\n",
       "      <td>88914</td>\n",
       "      <td>88915</td>\n",
       "      <td>What is Quora's monetization strategy?</td>\n",
       "      <td>Adam D'Angelo: What is Quora's monetization strategy?</td>\n",
       "    </tr>\n",
       "    <tr>\n",
       "      <th>3</th>\n",
       "      <td>50002</td>\n",
       "      <td>88916</td>\n",
       "      <td>88917</td>\n",
       "      <td>Is the Moto G4 Plus waterproof?</td>\n",
       "      <td>Should i buy a Moto G4 plus?</td>\n",
       "    </tr>\n",
       "    <tr>\n",
       "      <th>4</th>\n",
       "      <td>50003</td>\n",
       "      <td>88918</td>\n",
       "      <td>32373</td>\n",
       "      <td>Where can I get very nice and original flavor cupcakes in Gold Coast?</td>\n",
       "      <td>Where can I buy best quality gourmet cupcakes in Gold Coast?</td>\n",
       "    </tr>\n",
       "  </tbody>\n",
       "</table>\n",
       "</div>"
      ],
      "text/plain": [
       "      id   qid1   qid2                                                              question1                                                     question2\n",
       "0  49999  88910  88911  Why can some people hold their liquor so much better than others?      How do you make malt liquor taste better?                   \n",
       "1  50000  88912  88913  Why is human cloning considered unethical?                             Why is cloning considered unethical?                        \n",
       "2  50001  88914  88915  What is Quora's monetization strategy?                                 Adam D'Angelo: What is Quora's monetization strategy?       \n",
       "3  50002  88916  88917  Is the Moto G4 Plus waterproof?                                        Should i buy a Moto G4 plus?                                \n",
       "4  50003  88918  32373  Where can I get very nice and original flavor cupcakes in Gold Coast?  Where can I buy best quality gourmet cupcakes in Gold Coast?"
      ]
     },
     "execution_count": 7,
     "metadata": {},
     "output_type": "execute_result"
    }
   ],
   "source": [
    "#check first five test rows\n",
    "test.head()"
   ]
  },
  {
   "cell_type": "code",
   "execution_count": 8,
   "metadata": {},
   "outputs": [
    {
     "name": "stdout",
     "output_type": "stream",
     "text": [
      "Check if there are any empty columns\n",
      "id              0\n",
      "qid1            0\n",
      "qid2            0\n",
      "question1       0\n",
      "question2       0\n",
      "is_duplicate    0\n",
      "dtype: int64\n",
      "id           0\n",
      "qid1         0\n",
      "qid2         0\n",
      "question1    0\n",
      "question2    0\n",
      "dtype: int64\n"
     ]
    }
   ],
   "source": [
    "print('Check if there are any empty columns')\n",
    "print(train.isnull().sum())\n",
    "print(test.isnull().sum())"
   ]
  },
  {
   "cell_type": "markdown",
   "metadata": {},
   "source": [
    "# Exploratory Data Analysis"
   ]
  },
  {
   "cell_type": "markdown",
   "metadata": {},
   "source": [
    "We will now construct a basic set of features that will be  later use to embed our samples with.\n",
    "The first we will be looking at is rather standard TF-IDF encoding for each of the questions. In order to limit the computational complexity and storage requirements we will only encode the top terms across all documents with TF-IDF and also look at a subsample of the data."
   ]
  },
  {
   "cell_type": "code",
   "execution_count": 9,
   "metadata": {},
   "outputs": [
    {
     "name": "stdout",
     "output_type": "stream",
     "text": [
      "Check distribution of duplicate vs non-duplicate records\n"
     ]
    },
    {
     "data": {
      "text/html": [
       "<div>\n",
       "<style scoped>\n",
       "    .dataframe tbody tr th:only-of-type {\n",
       "        vertical-align: middle;\n",
       "    }\n",
       "\n",
       "    .dataframe tbody tr th {\n",
       "        vertical-align: top;\n",
       "    }\n",
       "\n",
       "    .dataframe thead th {\n",
       "        text-align: right;\n",
       "    }\n",
       "</style>\n",
       "<table border=\"1\" class=\"dataframe\">\n",
       "  <thead>\n",
       "    <tr style=\"text-align: right;\">\n",
       "      <th></th>\n",
       "      <th>id</th>\n",
       "    </tr>\n",
       "    <tr>\n",
       "      <th>is_duplicate</th>\n",
       "      <th></th>\n",
       "    </tr>\n",
       "  </thead>\n",
       "  <tbody>\n",
       "    <tr>\n",
       "      <th>0</th>\n",
       "      <td>31350</td>\n",
       "    </tr>\n",
       "    <tr>\n",
       "      <th>1</th>\n",
       "      <td>18649</td>\n",
       "    </tr>\n",
       "  </tbody>\n",
       "</table>\n",
       "</div>"
      ],
      "text/plain": [
       "                 id\n",
       "is_duplicate       \n",
       "0             31350\n",
       "1             18649"
      ]
     },
     "execution_count": 9,
     "metadata": {},
     "output_type": "execute_result"
    },
    {
     "data": {
      "image/png": "[encoded data removed]",
      "text/plain": [
       "<Figure size 432x288 with 1 Axes>"
      ]
     },
     "metadata": {
      "needs_background": "light"
     },
     "output_type": "display_data"
    }
   ],
   "source": [
    "print('Check distribution of duplicate vs non-duplicate records')\n",
    "dupVsnondup = train.groupby(\"is_duplicate\")['id'].count()\n",
    "dupVsnondup.plot.bar();\n",
    "pd.DataFrame(dupVsnondup)"
   ]
  },
  {
   "cell_type": "code",
   "execution_count": 10,
   "metadata": {},
   "outputs": [
    {
     "name": "stdout",
     "output_type": "stream",
     "text": [
      "Check distribution of duplicate vs non-duplicate for first 2500 records\n",
      "If it\"s close to whole set, we will use this dataset \n"
     ]
    },
    {
     "data": {
      "text/html": [
       "<div>\n",
       "<style scoped>\n",
       "    .dataframe tbody tr th:only-of-type {\n",
       "        vertical-align: middle;\n",
       "    }\n",
       "\n",
       "    .dataframe tbody tr th {\n",
       "        vertical-align: top;\n",
       "    }\n",
       "\n",
       "    .dataframe thead th {\n",
       "        text-align: right;\n",
       "    }\n",
       "</style>\n",
       "<table border=\"1\" class=\"dataframe\">\n",
       "  <thead>\n",
       "    <tr style=\"text-align: right;\">\n",
       "      <th></th>\n",
       "      <th>id</th>\n",
       "    </tr>\n",
       "    <tr>\n",
       "      <th>is_duplicate</th>\n",
       "      <th></th>\n",
       "    </tr>\n",
       "  </thead>\n",
       "  <tbody>\n",
       "    <tr>\n",
       "      <th>0</th>\n",
       "      <td>1549</td>\n",
       "    </tr>\n",
       "    <tr>\n",
       "      <th>1</th>\n",
       "      <td>951</td>\n",
       "    </tr>\n",
       "  </tbody>\n",
       "</table>\n",
       "</div>"
      ],
      "text/plain": [
       "                id\n",
       "is_duplicate      \n",
       "0             1549\n",
       "1             951 "
      ]
     },
     "execution_count": 10,
     "metadata": {},
     "output_type": "execute_result"
    },
    {
     "data": {
      "image/png": "[encoded data removed]",
      "text/plain": [
       "<Figure size 432x288 with 1 Axes>"
      ]
     },
     "metadata": {
      "needs_background": "light"
     },
     "output_type": "display_data"
    }
   ],
   "source": [
    "print('Check distribution of duplicate vs non-duplicate for first 2500 records');\n",
    "print('If it\"s close to whole set, we will use this dataset ')\n",
    "dfs = train[0:2500]\n",
    "dupVsnondup = dfs.groupby(\"is_duplicate\")['id'].count()\n",
    "dupVsnondup.plot.bar();\n",
    "pd.DataFrame(dupVsnondup)"
   ]
  },
  {
   "cell_type": "markdown",
   "metadata": {},
   "source": [
    "The subsample still has a very similar label distribution. For quicker analysis, combine question1 and question2 into a single column for further analysis. Top 50% of rows of dataframe will have question 1 and bottom 50% has question 2."
   ]
  },
  {
   "cell_type": "code",
   "execution_count": 11,
   "metadata": {},
   "outputs": [
    {
     "name": "stdout",
     "output_type": "stream",
     "text": [
      "Training set:\n",
      "Duplicate Count = 18649 , Non-Duplicate Count = 31350\n",
      "Unique Questions = 88909\n",
      "Count of Questions appearing more than once = 7396\n",
      "\n",
      "Test set:\n",
      "Unique Questions = 88931\n",
      "Count of Questions appearing more than once = 7421\n"
     ]
    }
   ],
   "source": [
    "def eda(df, train):\n",
    "    if (train):\n",
    "          print (\"Duplicate Count = %s , Non-Duplicate Count = %s\" \n",
    "           %(df.is_duplicate.value_counts()[1],df.is_duplicate.value_counts()[0]))\n",
    "    \n",
    "    question_ids_combined = df.qid1.tolist() + df.qid2.tolist()\n",
    "    \n",
    "    print (\"Unique Questions = %s\" %(len(np.unique(question_ids_combined))))\n",
    "    \n",
    "    question_ids_counter = Counter(question_ids_combined)\n",
    "    sorted_question_ids_counter = sorted(question_ids_counter.items(), key=operator.itemgetter(1))\n",
    "    question_appearing_more_than_once = [i for i in question_ids_counter.values() if i > 1]\n",
    "    print (\"Count of Questions appearing more than once = %s\" %(len(question_appearing_more_than_once)))\n",
    "    \n",
    "print('Training set:')    \n",
    "eda(train, 1)\n",
    "print('\\nTest set:')\n",
    "eda(test, 0)"
   ]
  },
  {
   "cell_type": "code",
   "execution_count": 12,
   "metadata": {},
   "outputs": [
    {
     "data": {
      "text/plain": [
       "(5000, 3)"
      ]
     },
     "execution_count": 12,
     "metadata": {},
     "output_type": "execute_result"
    }
   ],
   "source": [
    "dfq1, dfq2 = dfs[['qid1', 'question1']], dfs[['qid2', 'question2']]\n",
    "dfq1.columns = ['qid1', 'question']\n",
    "dfq2.columns = ['qid2', 'question']\n",
    "\n",
    "# merge two two dfs, there are two nans for question\n",
    "dfqa = pd.concat((dfq1, dfq2), axis=0).fillna(\"\")\n",
    "nrows_for_q1 = dfqa.shape[0]/2\n",
    "dfqa.shape"
   ]
  },
  {
   "cell_type": "code",
   "execution_count": 13,
   "metadata": {},
   "outputs": [
    {
     "data": {
      "image/png": "[encoded data removed]",
      "text/plain": [
       "<Figure size 864x432 with 1 Axes>"
      ]
     },
     "metadata": {
      "needs_background": "light"
     },
     "output_type": "display_data"
    }
   ],
   "source": [
    "all_ques_df = pd.DataFrame(pd.concat([train['question1'], train['question2']]))\n",
    "all_ques_df.columns = [\"questions\"]\n",
    "all_ques_df[\"num_of_words\"] = all_ques_df[\"questions\"].apply(lambda x : len(str(x).split()))\n",
    "cnt_srs = all_ques_df['num_of_words'].value_counts()\n",
    "\n",
    "plt.figure(figsize=(12,6))\n",
    "sns.barplot(cnt_srs.index, cnt_srs.values, alpha=0.8, color=color[0])\n",
    "plt.ylabel('Number of Occurrences', fontsize=12)\n",
    "plt.xlabel('Number of words in the question', fontsize=12)\n",
    "plt.xticks(rotation='vertical')\n",
    "plt.title('Number of words per question vs no. of times the words were repeated')\n",
    "plt.show();"
   ]
  },
  {
   "cell_type": "code",
   "execution_count": 14,
   "metadata": {},
   "outputs": [
    {
     "name": "stdout",
     "output_type": "stream",
     "text": [
      "Total number of question pairs for training: 49999\n",
      "Duplicate pairs: 37.3%\n",
      "Total number of questions in the training data: 88909\n",
      "Number of questions that appear multiple times: 7396\n",
      "\n",
      "\n"
     ]
    },
    {
     "data": {
      "image/png": "[encoded data removed]",
      "text/plain": [
       "<Figure size 864x360 with 1 Axes>"
      ]
     },
     "metadata": {
      "needs_background": "light"
     },
     "output_type": "display_data"
    }
   ],
   "source": [
    "print('Total number of question pairs for training: {}'.format(len(train)))\n",
    "print('Duplicate pairs: {}%'.format(round(train['is_duplicate'].mean()*100, 2)))\n",
    "qids = pd.Series(train['qid1'].tolist() + train['qid2'].tolist())\n",
    "print('Total number of questions in the training data: {}'.format(len( np.unique(qids))))\n",
    "print('Number of questions that appear multiple times: {}'.format(np.sum(qids.value_counts() > 1)))\n",
    "\n",
    "print()\n",
    "plt.figure(figsize=(12, 5))\n",
    "plt.hist(qids.value_counts(), bins=50)\n",
    "plt.yscale('log', nonposy='clip')\n",
    "plt.title('Log-Histogram of question appearance counts')\n",
    "plt.xlabel('Number of occurences of question')\n",
    "plt.ylabel('Number of questions')\n",
    "plt.title('Number of repeated questions vs number of times they were repeated')\n",
    "print()"
   ]
  },
  {
   "cell_type": "code",
   "execution_count": 15,
   "metadata": {},
   "outputs": [
    {
     "name": "stdout",
     "output_type": "stream",
     "text": [
      "mean-train 59.77 std-train 32.07 mean-test 59.64 std-test 32.07 max-train 1169.00 max-test 1151.00\n"
     ]
    },
    {
     "data": {
      "image/png": "[encoded data removed]",
      "text/plain": [
       "<Figure size 576x432 with 1 Axes>"
      ]
     },
     "metadata": {
      "needs_background": "light"
     },
     "output_type": "display_data"
    }
   ],
   "source": [
    "train_qs = pd.Series(train['question1'].tolist() + train['question2'].tolist()).astype(str)\n",
    "test_qs = pd.Series(test['question1'].tolist() + test['question2'].tolist()).astype(str)\n",
    "\n",
    "dist_train = train_qs.apply(len)\n",
    "dist_test = test_qs.apply(len)\n",
    "plt.figure(figsize=(8, 6))\n",
    "plt.hist(dist_train, bins=200, range=[0, 200], color=pal[2], normed=True, label='train')\n",
    "plt.hist(dist_test, bins=200, range=[0, 200], color=pal[1], normed=True, alpha=0.5, label='test')\n",
    "plt.title('Normalized histogram of character count in questions', fontsize=15)\n",
    "plt.legend()\n",
    "plt.xlabel('Number of characters', fontsize=15)\n",
    "plt.ylabel('Probability', fontsize=15)\n",
    "\n",
    "print('mean-train {:.2f} std-train {:.2f} mean-test {:.2f} std-test {:.2f} max-train {:.2f} max-test {:.2f}'.format(dist_train.mean(), \n",
    "                          dist_train.std(), dist_test.mean(), dist_test.std(), dist_train.max(), dist_test.max()))"
   ]
  },
  {
   "cell_type": "markdown",
   "metadata": {},
   "source": [
    "We can see that most questions have anywhere from 15 to 150 characters. One thing to notice is steep cut-off at 150 characters.\n",
    "Let's do the same for word count. We'll use a naive method for splitting words (splitting on spaces instead of using a  tokenizer), this should still give us a good idea of the distribution."
   ]
  },
  {
   "cell_type": "code",
   "execution_count": 16,
   "metadata": {},
   "outputs": [
    {
     "name": "stdout",
     "output_type": "stream",
     "text": [
      "mean-train 11.05 std-train 5.91 mean-test 11.05 std-test 5.94 max-train 237.00 max-test 237.00\n"
     ]
    },
    {
     "data": {
      "image/png": "[encoded data removed]",
      "text/plain": [
       "<Figure size 576x432 with 1 Axes>"
      ]
     },
     "metadata": {
      "needs_background": "light"
     },
     "output_type": "display_data"
    }
   ],
   "source": [
    "dist_train = train_qs.apply(lambda x: len(x.split(' ')))\n",
    "dist_test = test_qs.apply(lambda x: len(x.split(' ')))\n",
    "\n",
    "plt.figure(figsize=(8,6))\n",
    "plt.hist(dist_train, bins=50, range=[0, 50], color=pal[2], normed=True, label='train')\n",
    "plt.hist(dist_test, bins=50, range=[0, 50], color=pal[1], normed=True, alpha=0.5, label='test')\n",
    "plt.title('Normalised histogram of word count in questions', fontsize=15)\n",
    "plt.legend()\n",
    "plt.xlabel('Number of words', fontsize=15)\n",
    "plt.ylabel('Probability', fontsize=15)\n",
    "\n",
    "print('mean-train {:.2f} std-train {:.2f} mean-test {:.2f} std-test {:.2f} max-train {:.2f} max-test {:.2f}'.format(dist_train.mean(), \n",
    "                          dist_train.std(), dist_test.mean(), dist_test.std(), dist_train.max(), dist_test.max()))"
   ]
  },
  {
   "cell_type": "markdown",
   "metadata": {},
   "source": [
    "# t-SNE embedding"
   ]
  },
  {
   "cell_type": "markdown",
   "metadata": {},
   "source": [
    "We will use t-SNE to embed word vectors in three dimensions and plot them. t-Distributed Stochastic Neighbor Embedding (t-SNE) is a  technique for dimensionality reduction that is particularly well suited for the visualization of high-dimensional datasets. "
   ]
  },
  {
   "cell_type": "code",
   "execution_count": 17,
   "metadata": {},
   "outputs": [],
   "source": [
    "import nltk\n",
    "STOP_WORDS = nltk.corpus.stopwords.words()"
   ]
  },
  {
   "cell_type": "code",
   "execution_count": 18,
   "metadata": {},
   "outputs": [
    {
     "data": {
      "text/html": [
       "<div>\n",
       "<style scoped>\n",
       "    .dataframe tbody tr th:only-of-type {\n",
       "        vertical-align: middle;\n",
       "    }\n",
       "\n",
       "    .dataframe tbody tr th {\n",
       "        vertical-align: top;\n",
       "    }\n",
       "\n",
       "    .dataframe thead th {\n",
       "        text-align: right;\n",
       "    }\n",
       "</style>\n",
       "<table border=\"1\" class=\"dataframe\">\n",
       "  <thead>\n",
       "    <tr style=\"text-align: right;\">\n",
       "      <th></th>\n",
       "      <th>id</th>\n",
       "      <th>qid1</th>\n",
       "      <th>qid2</th>\n",
       "      <th>question1</th>\n",
       "      <th>question2</th>\n",
       "      <th>is_duplicate</th>\n",
       "    </tr>\n",
       "  </thead>\n",
       "  <tbody>\n",
       "    <tr>\n",
       "      <th>0</th>\n",
       "      <td>0</td>\n",
       "      <td>1</td>\n",
       "      <td>2</td>\n",
       "      <td>step step guide invest share market india</td>\n",
       "      <td>step step guide invest share market</td>\n",
       "      <td>0</td>\n",
       "    </tr>\n",
       "    <tr>\n",
       "      <th>1</th>\n",
       "      <td>1</td>\n",
       "      <td>3</td>\n",
       "      <td>4</td>\n",
       "      <td>story kohinoor kohinoor diamond</td>\n",
       "      <td>would happen indian government stole kohinoor kohinoor diamond back</td>\n",
       "      <td>0</td>\n",
       "    </tr>\n",
       "    <tr>\n",
       "      <th>2</th>\n",
       "      <td>2</td>\n",
       "      <td>5</td>\n",
       "      <td>6</td>\n",
       "      <td>increase speed internet connection using vpn</td>\n",
       "      <td>internet speed increased hacking dns</td>\n",
       "      <td>0</td>\n",
       "    </tr>\n",
       "    <tr>\n",
       "      <th>3</th>\n",
       "      <td>3</td>\n",
       "      <td>7</td>\n",
       "      <td>8</td>\n",
       "      <td>mentally lonely solve</td>\n",
       "      <td>find remainder math2324math divided 2423</td>\n",
       "      <td>0</td>\n",
       "    </tr>\n",
       "    <tr>\n",
       "      <th>4</th>\n",
       "      <td>4</td>\n",
       "      <td>9</td>\n",
       "      <td>10</td>\n",
       "      <td>dissolve water quikly sugar salt methane carbon oxide</td>\n",
       "      <td>fish would survive salt water</td>\n",
       "      <td>0</td>\n",
       "    </tr>\n",
       "  </tbody>\n",
       "</table>\n",
       "</div>"
      ],
      "text/plain": [
       "   id  qid1  qid2                                              question1                                                            question2  is_duplicate\n",
       "0  0   1     2     step step guide invest share market india              step step guide invest share market                                  0           \n",
       "1  1   3     4     story kohinoor kohinoor diamond                        would happen indian government stole kohinoor kohinoor diamond back  0           \n",
       "2  2   5     6     increase speed internet connection using vpn           internet speed increased hacking dns                                 0           \n",
       "3  3   7     8     mentally lonely solve                                  find remainder math2324math divided 2423                             0           \n",
       "4  4   9     10    dissolve water quikly sugar salt methane carbon oxide  fish would survive salt water                                        0           "
      ]
     },
     "execution_count": 18,
     "metadata": {},
     "output_type": "execute_result"
    }
   ],
   "source": [
    "\n",
    "def clean_sentence(val):\n",
    "    \"remove chars that are not letters or numbers, downcase, then remove stop words\"\n",
    "    regex = re.compile('([^\\s\\w]|_&*)+')\n",
    "    sentence = regex.sub('', val).lower()\n",
    "    sentence = sentence.split(\" \")\n",
    "    \n",
    "    for word in list(sentence):\n",
    "        if word in STOP_WORDS:\n",
    "            sentence.remove(word)  \n",
    "            \n",
    "    sentence = \" \".join(sentence)\n",
    "    return sentence\n",
    "\n",
    "def clean_trainframe(df):\n",
    "    \"drop nans, then apply 'clean_sentence' function to question1 and 2\"\n",
    "    df = df.dropna(how=\"any\")\n",
    "    \n",
    "    for col in ['question1', 'question2']:\n",
    "        df[col] = df[col].apply(clean_sentence)\n",
    "    \n",
    "    return df\n",
    "\n",
    "df = clean_trainframe(train)\n",
    "df.head(5)"
   ]
  },
  {
   "cell_type": "code",
   "execution_count": 19,
   "metadata": {},
   "outputs": [
    {
     "data": {
      "text/plain": [
       "[['step', 'step', 'guide', 'invest', 'share', 'market', 'india'],\n",
       " ['story', 'kohinoor', 'kohinoor', 'diamond']]"
      ]
     },
     "execution_count": 19,
     "metadata": {},
     "output_type": "execute_result"
    }
   ],
   "source": [
    "def build_corpus(df):\n",
    "    \"Creates a list of lists containing words from each sentence\"\n",
    "    corpus = []\n",
    "    for col in ['question1', 'question2']:\n",
    "        for sentence in df[col].iteritems():\n",
    "            word_list = sentence[1].split(\" \")\n",
    "            corpus.append(word_list)\n",
    "            \n",
    "    return corpus\n",
    "\n",
    "\n",
    "corpus = build_corpus(df)        \n",
    "corpus[0:2]"
   ]
  },
  {
   "cell_type": "code",
   "execution_count": 20,
   "metadata": {},
   "outputs": [
    {
     "name": "stdout",
     "output_type": "stream",
     "text": [
      "Create a word2vec for the corpus with 100 dimensions.\n",
      "Location of word \"universe\" in the word2vec.\n"
     ]
    },
    {
     "data": {
      "text/plain": [
       "array([ 0.11549157, -0.08254549, -0.27136043, -0.0931699 ,  0.4255142 ,\n",
       "       -0.4614586 , -0.35727027,  0.21137868,  0.5521492 , -0.00420784,\n",
       "        0.47218913, -0.8592244 , -0.29216886, -0.761837  ,  0.1328136 ,\n",
       "        0.1796368 , -0.35069063, -0.8475501 ,  0.78930867,  0.5755038 ,\n",
       "       -0.00563522, -0.6779833 ,  0.08096587, -0.05445635,  0.5788004 ,\n",
       "        0.02449722,  0.6003969 , -0.06514224, -0.45094115,  0.04477476,\n",
       "        0.06796074, -0.9005174 , -0.35786727, -0.65374047, -0.714597  ,\n",
       "       -0.85679203,  0.39316094,  0.21696569, -0.00626419,  0.11971176,\n",
       "        0.05256695,  0.05677013, -0.11234661, -0.31717974, -0.18080029,\n",
       "        0.02778025, -0.2847401 , -0.47141874,  0.47770786,  0.00228657,\n",
       "        0.03760432, -0.23111527, -0.9037618 ,  0.30208296, -0.40228763,\n",
       "        0.6172494 ,  1.1586468 , -0.5231833 , -0.5997851 , -0.86532915,\n",
       "        0.24490093, -0.15834557, -0.09193824,  0.31656736,  0.26151592,\n",
       "       -0.3784276 ,  0.05253235, -0.14739391, -0.4790226 , -0.04389858,\n",
       "       -0.546691  , -0.6576401 , -0.02720142, -0.44149333, -0.02850562,\n",
       "       -0.3184573 ,  0.1564181 ,  0.4644748 , -0.3866515 ,  0.2898304 ,\n",
       "        0.76529163,  0.822607  , -0.61863655, -0.22180353,  0.15058105,\n",
       "       -0.14219533,  0.44563207,  0.08151062,  0.08465156,  0.32668486,\n",
       "       -0.41277322, -0.4463545 , -0.656126  , -0.6510093 , -0.32181203,\n",
       "       -0.01252827,  0.28249022,  0.4822648 ,  0.14757368, -0.13109559],\n",
       "      dtype=float32)"
      ]
     },
     "execution_count": 20,
     "metadata": {},
     "output_type": "execute_result"
    }
   ],
   "source": [
    "from gensim.models import word2vec\n",
    "print('Create a word2vec for the corpus with 100 dimensions.')\n",
    "model = word2vec.Word2Vec(corpus, size=100, window=20, min_count=200, workers=4)\n",
    "print('Location of word \"universe\" in the word2vec.')\n",
    "model.wv['universe']"
   ]
  },
  {
   "cell_type": "code",
   "execution_count": 21,
   "metadata": {},
   "outputs": [],
   "source": [
    "def tsne_plot(model):\n",
    "    \"Creates a TSNE model and plot\"\n",
    "    labels = []\n",
    "    tokens = []\n",
    "\n",
    "    for word in model.wv.vocab:\n",
    "        tokens.append(model[word])\n",
    "        labels.append(word)\n",
    "    \n",
    "    tsne_model = TSNE(perplexity=40, n_components=2, init='pca', n_iter=2500, random_state=23)\n",
    "    new_values = tsne_model.fit_transform(tokens)\n",
    "\n",
    "    x = []\n",
    "    y = []\n",
    "    for value in new_values:\n",
    "        x.append(value[0])\n",
    "        y.append(value[1])\n",
    "        \n",
    "    plt.figure(figsize=(16, 16)) \n",
    "    plt.title('t-SNE model')\n",
    "    for i in range(len(x)):\n",
    "        plt.scatter(x[i],y[i])\n",
    "        plt.annotate(labels[i],\n",
    "                     xy=(x[i], y[i]),\n",
    "                     xytext=(5, 2),\n",
    "                     textcoords='offset points',\n",
    "                     ha='right',\n",
    "                     va='bottom');\n",
    "    plt.show();"
   ]
  },
  {
   "cell_type": "code",
   "execution_count": 22,
   "metadata": {},
   "outputs": [
    {
     "data": {
      "image/png": "[encoded data removed]",
      "text/plain": [
       "<Figure size 1152x1152 with 1 Axes>"
      ]
     },
     "metadata": {
      "needs_background": "light"
     },
     "output_type": "display_data"
    }
   ],
   "source": [
    "model = word2vec.Word2Vec(corpus, size=100, window=20, min_count=500, workers=4)\n",
    "tsne_plot(model)"
   ]
  },
  {
   "cell_type": "markdown",
   "metadata": {},
   "source": [
    "Note that 'donald' and 'clinton' are together, also 'google', 'questions' and 'quora' are in same direction. We can also look up the most similar words for any word. "
   ]
  },
  {
   "cell_type": "code",
   "execution_count": 23,
   "metadata": {},
   "outputs": [
    {
     "name": "stdout",
     "output_type": "stream",
     "text": [
      "Following are similar words for 'universe'\n"
     ]
    },
    {
     "data": {
      "text/plain": [
       "[('ask', 0.9896209239959717),\n",
       " ('questions', 0.9658547043800354),\n",
       " ('question', 0.9643120169639587),\n",
       " ('many', 0.903973400592804),\n",
       " ('google', 0.9007415771484375),\n",
       " ('could', 0.9002904891967773),\n",
       " ('people', 0.7901384830474854),\n",
       " ('need', 0.769147515296936),\n",
       " ('mean', 0.7495986819267273),\n",
       " ('find', 0.7470552921295166)]"
      ]
     },
     "execution_count": 23,
     "metadata": {},
     "output_type": "execute_result"
    }
   ],
   "source": [
    "print(\"Following are similar words for 'universe'\")\n",
    "model.wv.most_similar('quora')"
   ]
  },
  {
   "cell_type": "markdown",
   "metadata": {},
   "source": [
    "# Question Similarity"
   ]
  },
  {
   "cell_type": "code",
   "execution_count": 24,
   "metadata": {},
   "outputs": [
    {
     "name": "stdout",
     "output_type": "stream",
     "text": [
      "No of words in the dictionary = 10459\n"
     ]
    }
   ],
   "source": [
    "def tokenize_questions(df):\n",
    "    question_1_tokenized = []\n",
    "    question_2_tokenized = []\n",
    "\n",
    "    for q in df.question1.tolist():\n",
    "        question_1_tokenized.append([i.lower() for i in words.findall(q) if i not in stopword])\n",
    "\n",
    "    for q in df.question2.tolist():\n",
    "        question_2_tokenized.append([i.lower() for i in words.findall(q) if i not in stopword])\n",
    "\n",
    "    df[\"Question_1_tok\"] = question_1_tokenized\n",
    "    df[\"Question_2_tok\"] = question_2_tokenized\n",
    "    \n",
    "    return df\n",
    "\n",
    "def train_dictionary(df):\n",
    "    \n",
    "    questions_tokenized = df.Question_1_tok.tolist() + df.Question_2_tok.tolist()\n",
    "    \n",
    "    dictionary = corpora.Dictionary(questions_tokenized)\n",
    "    dictionary.filter_extremes(no_below=5, no_above=0.5, keep_n=10000000)\n",
    "    dictionary.compactify()\n",
    "    \n",
    "    return dictionary\n",
    "    \n",
    "df_train = tokenize_questions(train)\n",
    "dictionary = train_dictionary(df_train)\n",
    "\n",
    "print (\"No of words in the dictionary = %s\" %len(dictionary.token2id))"
   ]
  },
  {
   "cell_type": "code",
   "execution_count": 76,
   "metadata": {},
   "outputs": [
    {
     "data": {
      "text/plain": [
       "<gensim.corpora.dictionary.Dictionary at 0x1c90eef5dd8>"
      ]
     },
     "execution_count": 76,
     "metadata": {},
     "output_type": "execute_result"
    }
   ],
   "source": []
  },
  {
   "cell_type": "code",
   "execution_count": 78,
   "metadata": {},
   "outputs": [
    {
     "name": "stdout",
     "output_type": "stream",
     "text": [
      "(49999, 10406)\n",
      "(49999, 10406)\n"
     ]
    }
   ],
   "source": [
    "def get_vectors(df, dictionary):\n",
    "    \n",
    "    # Convert text into the bag-of-words (BoW) format \n",
    "    question1_vec = [dictionary.doc2bow(text) for text in df.Question_1_tok.tolist()]\n",
    "    question2_vec = [dictionary.doc2bow(text) for text in df.Question_2_tok.tolist()]\n",
    "    \n",
    "    # Convert a streamed corpus in bag-of-words format into a sparse matrix\n",
    "    question1_csc = gensim.matutils.corpus2csc(question1_vec, num_terms=len(dictionary.token2id))\n",
    "    question2_csc = gensim.matutils.corpus2csc(question2_vec, num_terms=len(dictionary.token2id))\n",
    "    \n",
    "    return question1_csc.transpose(),question2_csc.transpose()\n",
    "\n",
    "\n",
    "q1_csc, q2_csc = get_vectors(df_train, dictionary)\n",
    "\n",
    "print (q1_csc.shape)\n",
    "print (q2_csc.shape)"
   ]
  },
  {
   "cell_type": "code",
   "execution_count": 26,
   "metadata": {},
   "outputs": [],
   "source": [
    "df_test = tokenize_questions(test)\n",
    "dictionary = train_dictionary(df_test)\n",
    "q1_csc, q2_csc = get_vectors(df_test, dictionary)"
   ]
  },
  {
   "cell_type": "markdown",
   "metadata": {},
   "source": [
    "The cosine similarity between two vectors calculates cosine of the angle between them. It's values for different words/documents, 1 (same direction), 0 (90 deg.), -1 (opposite directions)."
   ]
  },
  {
   "cell_type": "code",
   "execution_count": 40,
   "metadata": {},
   "outputs": [
    {
     "name": "stdout",
     "output_type": "stream",
     "text": [
      "49999\n"
     ]
    }
   ],
   "source": [
    "from sklearn.metrics.pairwise import cosine_similarity as cs\n",
    "\n",
    "def get_cosine_similarity(q1_csc, q2_csc):\n",
    "    cosine_sim = []\n",
    "    for i,j in zip(q1_csc, q2_csc):\n",
    "        sim = cs(i,j)\n",
    "        cosine_sim.append(sim[0][0])\n",
    "    \n",
    "    return cosine_sim\n",
    "    \n",
    "cosine_sim = get_cosine_similarity(q1_csc, q2_csc)\n",
    "print (len(cosine_sim))\n",
    "\n"
   ]
  },
  {
   "cell_type": "code",
   "execution_count": 54,
   "metadata": {},
   "outputs": [
    {
     "name": "stdout",
     "output_type": "stream",
     "text": [
      "Similarity for Non-duplicate questions\n",
      "('What is the step by step guide to invest in share market in india?', 'What is the step by step guide to invest in share market?', 0.3380617018914066)\n",
      "\n",
      "Similarity for Duplicate questions\n",
      "('How can I be a good geologist?', 'What should I do to be a great geologist?', 0.7905694150420948)\n"
     ]
    }
   ],
   "source": [
    "def display_question_similarity(index):\n",
    "    r = df_train.iloc[index]\n",
    "    return r['question1'], r['question2'], cosine_sim[index]\n",
    "\n",
    "print('Cosine similarity for Non-duplicate questions')\n",
    "print(get_question_similarity(0))\n",
    "\n",
    "print('\\nCosine similarity for Duplicate questions')\n",
    "print(get_question_similarity(7))\n"
   ]
  },
  {
   "cell_type": "code",
   "execution_count": 63,
   "metadata": {},
   "outputs": [
    {
     "data": {
      "image/png": "[encoded data removed]",
      "text/plain": [
       "<Figure size 864x288 with 1 Axes>"
      ]
     },
     "metadata": {
      "needs_background": "light"
     },
     "output_type": "display_data"
    }
   ],
   "source": [
    "plt.figure(figsize=(12,4))\n",
    "plt.hist(cosine_sim, bins = 200)\n",
    "plt.xlim(0,1)\n",
    "plt.show()"
   ]
  },
  {
   "cell_type": "code",
   "execution_count": 90,
   "metadata": {},
   "outputs": [
    {
     "name": "stdout",
     "output_type": "stream",
     "text": [
      "Accuracy score is 62.0% for cosine similarity of 0.99.\n",
      "\n",
      "Confusion Matrix:\n",
      "[[29930  1420]\n",
      " [17807   842]]\n",
      "\n",
      "Classification Report:\n",
      "              precision    recall  f1-score   support\n",
      "\n",
      "           0       0.63      0.95      0.76     31350\n",
      "           1       0.37      0.05      0.08     18649\n",
      "\n",
      "    accuracy                           0.62     49999\n",
      "   macro avg       0.50      0.50      0.42     49999\n",
      "weighted avg       0.53      0.62      0.50     49999\n",
      "\n"
     ]
    }
   ],
   "source": [
    "# Function to report the quality of the model\n",
    "def performance_report(value, score_list):\n",
    "    # the value (0-1) is the cosine similarity score to determine if a pair of questions\n",
    "    # have the same meaning or not.\n",
    "    scores = []\n",
    "    for score in score_list:\n",
    "        if score >= value:\n",
    "            scores.append(1)\n",
    "        else:\n",
    "            scores.append(0)\n",
    "\n",
    "    accuracy = accuracy_score(df.is_duplicate, scores) * 100\n",
    "    print(\"Accuracy score is {}% for cosine similarity of {}.\".format(round(accuracy), value))\n",
    "    print()\n",
    "    print(\"Confusion Matrix:\")\n",
    "    print(confusion_matrix(train.is_duplicate, scores))\n",
    "    \n",
    "    print()\n",
    "    print(\"Classification Report:\")\n",
    "    print(classification_report(train.is_duplicate, scores))\n",
    "\n",
    "\n",
    "performance_report(0.99, cosine_sim)"
   ]
  },
  {
   "cell_type": "markdown",
   "metadata": {},
   "source": [
    "<b>Using Cosine similarity as a feature, we got accuracy of 62% for detecting duplicate questions."
   ]
  },
  {
   "cell_type": "code",
   "execution_count": null,
   "metadata": {},
   "outputs": [],
   "source": []
  }
 ],
 "metadata": {
  "anaconda-cloud": {},
  "kernelspec": {
   "display_name": "Python 3",
   "language": "python",
   "name": "python3"
  },
  "language_info": {
   "codemirror_mode": {
    "name": "ipython",
    "version": 3
   },
   "file_extension": ".py",
   "mimetype": "text/x-python",
   "name": "python",
   "nbconvert_exporter": "python",
   "pygments_lexer": "ipython3",
   "version": "3.7.3"
  },
  "toc": {
   "base_numbering": 1,
   "nav_menu": {},
   "number_sections": true,
   "sideBar": true,
   "skip_h1_title": false,
   "title_cell": "Table of Contents",
   "title_sidebar": "Contents",
   "toc_cell": false,
   "toc_position": {},
   "toc_section_display": true,
   "toc_window_display": false
  }
 },
 "nbformat": 4,
 "nbformat_minor": 1
}
