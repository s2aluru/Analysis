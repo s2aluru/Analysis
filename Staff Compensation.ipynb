{
 "cells": [
  {
   "cell_type": "markdown",
   "metadata": {},
   "source": [
    "##                               World Education - Staff compensation percentage in top 20 countries"
   ]
  },
  {
   "cell_type": "markdown",
   "metadata": {},
   "source": [
    "There was an article (http://www.huffingtonpost.com/tomostapchuk/mostandleastpaidteachersintheworld_b_8970800.html) about most paid teachers across world. I was\n",
    "curious to see if I can get that information from world indicators and see if there is a\n",
    "relation between staff compensation and education expenditure."
   ]
  },
  {
   "cell_type": "code",
   "execution_count": 1,
   "metadata": {
    "collapsed": true
   },
   "outputs": [],
   "source": [
    "import pandas as pd\n",
    "import numpy as np\n",
    "import matplotlib.pyplot as plt\n",
    "from scipy import misc\n",
    "%matplotlib inline\n",
    "from skimage import data\n",
    "import warnings\n",
    "warnings.filterwarnings('ignore')\n",
    "import os"
   ]
  },
  {
   "cell_type": "code",
   "execution_count": 3,
   "metadata": {},
   "outputs": [],
   "source": [
    "os.chdir(\"Datasets\\\\WorldStaffCompensation\")"
   ]
  },
  {
   "cell_type": "markdown",
   "metadata": {},
   "source": [
    "### Read World Indicators csv dataset"
   ]
  },
  {
   "cell_type": "code",
   "execution_count": 4,
   "metadata": {
    "collapsed": true
   },
   "outputs": [],
   "source": [
    "indicatorsData = pd.read_csv('Indicators.csv')"
   ]
  },
  {
   "cell_type": "markdown",
   "metadata": {},
   "source": [
    "### Specify education indicators"
   ]
  },
  {
   "cell_type": "code",
   "execution_count": 5,
   "metadata": {
    "collapsed": true
   },
   "outputs": [],
   "source": [
    "totalStaffPay = 'SE.XPD.MTOT.ZS'\n",
    "totalExp = 'SE.XPD.CTOT.ZS'"
   ]
  },
  {
   "cell_type": "markdown",
   "metadata": {},
   "source": [
    "### Specify top 20 countries of interest copied from the huffingtonpost article"
   ]
  },
  {
   "cell_type": "code",
   "execution_count": 6,
   "metadata": {},
   "outputs": [
    {
     "data": {
      "text/plain": [
       "['Luxembourg',\n",
       " 'Korea',\n",
       " 'Austria',\n",
       " 'Germany',\n",
       " 'Canada',\n",
       " 'Mexico',\n",
       " 'Ireland',\n",
       " 'Netherlands',\n",
       " 'United States',\n",
       " 'France',\n",
       " 'Japan',\n",
       " 'Belgium',\n",
       " 'Spain',\n",
       " 'Portugal',\n",
       " 'Austrailia',\n",
       " 'Norway',\n",
       " 'Scotland',\n",
       " 'Denmark',\n",
       " 'Israel',\n",
       " 'Slovenia',\n",
       " 'United Kingdom',\n",
       " 'New Zealand',\n",
       " 'Finland',\n",
       " 'Italy',\n",
       " 'Sweden',\n",
       " 'Chile',\n",
       " 'Greece',\n",
       " 'Iceland',\n",
       " 'Turkey',\n",
       " 'Colombia',\n",
       " 'Poland',\n",
       " 'Czech Republic',\n",
       " 'Hungary',\n",
       " 'Slovak Republic',\n",
       " 'Estonia']"
      ]
     },
     "execution_count": 6,
     "metadata": {},
     "output_type": "execute_result"
    }
   ],
   "source": [
    "countryData = pd.read_csv('Top20MostPaidTeachersCountries.csv')\n",
    "lstCountries = countryData['Country'].values.tolist()\n",
    "lstCountries"
   ]
  },
  {
   "cell_type": "markdown",
   "metadata": {},
   "source": [
    "### Define filters for country and education indicators"
   ]
  },
  {
   "cell_type": "code",
   "execution_count": 7,
   "metadata": {
    "collapsed": true
   },
   "outputs": [],
   "source": [
    "countryMask = indicatorsData['CountryName'].isin(lstCountries)\n",
    "staffFilter = indicatorsData['IndicatorCode'].str.contains(totalStaffPay)\n",
    "expFilter = indicatorsData['IndicatorCode'].str.contains(totalExp)"
   ]
  },
  {
   "cell_type": "markdown",
   "metadata": {},
   "source": [
    "### Extract staff pay and expenditure data"
   ]
  },
  {
   "cell_type": "code",
   "execution_count": 8,
   "metadata": {},
   "outputs": [
    {
     "name": "stdout",
     "output_type": "stream",
     "text": [
      "Staff pay records: 361  Education expenditure records: 364\n"
     ]
    }
   ],
   "source": [
    "education_Staff = indicatorsData[countryMask & staffFilter]\n",
    "education_Exp = indicatorsData[countryMask & expFilter]\n",
    "print(\"Staff pay records:\", len(education_Staff), \" Education expenditure records:\", len(education_Exp))"
   ]
  },
  {
   "cell_type": "markdown",
   "metadata": {},
   "source": [
    "#### Note: There are three missing staff pay records compared to expenditure, but it is fine as we'll be doing a mean of the data \n"
   ]
  },
  {
   "cell_type": "markdown",
   "metadata": {},
   "source": [
    "### Calculate means for Staff compensation vs Expenditure for all years"
   ]
  },
  {
   "cell_type": "code",
   "execution_count": 22,
   "metadata": {},
   "outputs": [],
   "source": [
    "avgStaffPay = pd.DataFrame({'PayMean':education_Staff.groupby('CountryName')['Value'].mean()})\n",
    "avgExp = pd.DataFrame({'ExpenditureMean':education_Exp.groupby('CountryName')['Value'].mean()})"
   ]
  },
  {
   "cell_type": "markdown",
   "metadata": {},
   "source": [
    "### Join records to find fraction of Staff compensation vs Education expenditure."
   ]
  },
  {
   "cell_type": "markdown",
   "metadata": {},
   "source": [
    "### Note: As both values are % of total expenditure in public institutions, a ratio between them will give a better picture of staff compensation in the country"
   ]
  },
  {
   "cell_type": "code",
   "execution_count": 23,
   "metadata": {},
   "outputs": [],
   "source": [
    "total = avgStaffPay.merge(avgExp, on='CountryName', how='inner')\n",
    "total['PayPercent'] = total['PayMean'].values*100/total['ExpenditureMean'].values\n",
    "total.reset_index(inplace=True)\n"
   ]
  },
  {
   "cell_type": "markdown",
   "metadata": {},
   "source": [
    "### Sort resultant Percent in ascending order"
   ]
  },
  {
   "cell_type": "code",
   "execution_count": 28,
   "metadata": {},
   "outputs": [
    {
     "data": {
      "text/html": [
       "<div>\n",
       "<style scoped>\n",
       "    .dataframe tbody tr th:only-of-type {\n",
       "        vertical-align: middle;\n",
       "    }\n",
       "\n",
       "    .dataframe tbody tr th {\n",
       "        vertical-align: top;\n",
       "    }\n",
       "\n",
       "    .dataframe thead th {\n",
       "        text-align: right;\n",
       "    }\n",
       "</style>\n",
       "<table border=\"1\" class=\"dataframe\">\n",
       "  <thead>\n",
       "    <tr style=\"text-align: right;\">\n",
       "      <th></th>\n",
       "      <th>CountryName</th>\n",
       "      <th>PayMean</th>\n",
       "      <th>ExpenditureMean</th>\n",
       "      <th>PayPercent</th>\n",
       "    </tr>\n",
       "  </thead>\n",
       "  <tbody>\n",
       "    <tr>\n",
       "      <th>5</th>\n",
       "      <td>Czech Republic</td>\n",
       "      <td>53.822424</td>\n",
       "      <td>90.071116</td>\n",
       "      <td>59.755476</td>\n",
       "    </tr>\n",
       "    <tr>\n",
       "      <th>7</th>\n",
       "      <td>Estonia</td>\n",
       "      <td>56.551485</td>\n",
       "      <td>87.724800</td>\n",
       "      <td>64.464650</td>\n",
       "    </tr>\n",
       "    <tr>\n",
       "      <th>8</th>\n",
       "      <td>Finland</td>\n",
       "      <td>60.336801</td>\n",
       "      <td>92.758562</td>\n",
       "      <td>65.047150</td>\n",
       "    </tr>\n",
       "    <tr>\n",
       "      <th>24</th>\n",
       "      <td>Slovak Republic</td>\n",
       "      <td>61.343454</td>\n",
       "      <td>93.647287</td>\n",
       "      <td>65.504786</td>\n",
       "    </tr>\n",
       "    <tr>\n",
       "      <th>27</th>\n",
       "      <td>Sweden</td>\n",
       "      <td>63.216013</td>\n",
       "      <td>95.895335</td>\n",
       "      <td>65.921886</td>\n",
       "    </tr>\n",
       "    <tr>\n",
       "      <th>22</th>\n",
       "      <td>Poland</td>\n",
       "      <td>63.302799</td>\n",
       "      <td>92.204219</td>\n",
       "      <td>68.654992</td>\n",
       "    </tr>\n",
       "    <tr>\n",
       "      <th>3</th>\n",
       "      <td>Chile</td>\n",
       "      <td>63.398382</td>\n",
       "      <td>91.952367</td>\n",
       "      <td>68.946982</td>\n",
       "    </tr>\n",
       "    <tr>\n",
       "      <th>2</th>\n",
       "      <td>Canada</td>\n",
       "      <td>68.893984</td>\n",
       "      <td>93.978426</td>\n",
       "      <td>73.308297</td>\n",
       "    </tr>\n",
       "    <tr>\n",
       "      <th>12</th>\n",
       "      <td>Hungary</td>\n",
       "      <td>67.279218</td>\n",
       "      <td>91.750567</td>\n",
       "      <td>73.328394</td>\n",
       "    </tr>\n",
       "    <tr>\n",
       "      <th>29</th>\n",
       "      <td>United Kingdom</td>\n",
       "      <td>69.148961</td>\n",
       "      <td>92.667564</td>\n",
       "      <td>74.620458</td>\n",
       "    </tr>\n",
       "    <tr>\n",
       "      <th>13</th>\n",
       "      <td>Iceland</td>\n",
       "      <td>68.601970</td>\n",
       "      <td>91.764747</td>\n",
       "      <td>74.758524</td>\n",
       "    </tr>\n",
       "    <tr>\n",
       "      <th>0</th>\n",
       "      <td>Austria</td>\n",
       "      <td>71.553688</td>\n",
       "      <td>95.453861</td>\n",
       "      <td>74.961544</td>\n",
       "    </tr>\n",
       "    <tr>\n",
       "      <th>21</th>\n",
       "      <td>Norway</td>\n",
       "      <td>67.519303</td>\n",
       "      <td>88.906853</td>\n",
       "      <td>75.943869</td>\n",
       "    </tr>\n",
       "    <tr>\n",
       "      <th>15</th>\n",
       "      <td>Israel</td>\n",
       "      <td>70.160429</td>\n",
       "      <td>92.184120</td>\n",
       "      <td>76.109019</td>\n",
       "    </tr>\n",
       "    <tr>\n",
       "      <th>25</th>\n",
       "      <td>Slovenia</td>\n",
       "      <td>68.980215</td>\n",
       "      <td>90.446833</td>\n",
       "      <td>76.266037</td>\n",
       "    </tr>\n",
       "    <tr>\n",
       "      <th>30</th>\n",
       "      <td>United States</td>\n",
       "      <td>68.162898</td>\n",
       "      <td>89.179181</td>\n",
       "      <td>76.433645</td>\n",
       "    </tr>\n",
       "    <tr>\n",
       "      <th>17</th>\n",
       "      <td>Japan</td>\n",
       "      <td>69.143889</td>\n",
       "      <td>88.973986</td>\n",
       "      <td>77.712478</td>\n",
       "    </tr>\n",
       "    <tr>\n",
       "      <th>16</th>\n",
       "      <td>Italy</td>\n",
       "      <td>73.274635</td>\n",
       "      <td>93.415541</td>\n",
       "      <td>78.439448</td>\n",
       "    </tr>\n",
       "    <tr>\n",
       "      <th>10</th>\n",
       "      <td>Germany</td>\n",
       "      <td>72.218549</td>\n",
       "      <td>91.691064</td>\n",
       "      <td>78.762909</td>\n",
       "    </tr>\n",
       "    <tr>\n",
       "      <th>6</th>\n",
       "      <td>Denmark</td>\n",
       "      <td>74.017376</td>\n",
       "      <td>93.816725</td>\n",
       "      <td>78.895716</td>\n",
       "    </tr>\n",
       "    <tr>\n",
       "      <th>20</th>\n",
       "      <td>Netherlands</td>\n",
       "      <td>69.467742</td>\n",
       "      <td>87.856714</td>\n",
       "      <td>79.069361</td>\n",
       "    </tr>\n",
       "    <tr>\n",
       "      <th>14</th>\n",
       "      <td>Ireland</td>\n",
       "      <td>72.978852</td>\n",
       "      <td>91.175128</td>\n",
       "      <td>80.042500</td>\n",
       "    </tr>\n",
       "    <tr>\n",
       "      <th>11</th>\n",
       "      <td>Greece</td>\n",
       "      <td>64.971493</td>\n",
       "      <td>80.098607</td>\n",
       "      <td>81.114385</td>\n",
       "    </tr>\n",
       "    <tr>\n",
       "      <th>9</th>\n",
       "      <td>France</td>\n",
       "      <td>73.655396</td>\n",
       "      <td>90.591980</td>\n",
       "      <td>81.304543</td>\n",
       "    </tr>\n",
       "    <tr>\n",
       "      <th>4</th>\n",
       "      <td>Colombia</td>\n",
       "      <td>70.978941</td>\n",
       "      <td>86.964900</td>\n",
       "      <td>81.617918</td>\n",
       "    </tr>\n",
       "    <tr>\n",
       "      <th>26</th>\n",
       "      <td>Spain</td>\n",
       "      <td>73.938959</td>\n",
       "      <td>89.628561</td>\n",
       "      <td>82.494864</td>\n",
       "    </tr>\n",
       "    <tr>\n",
       "      <th>18</th>\n",
       "      <td>Luxembourg</td>\n",
       "      <td>71.270691</td>\n",
       "      <td>82.484138</td>\n",
       "      <td>86.405329</td>\n",
       "    </tr>\n",
       "    <tr>\n",
       "      <th>28</th>\n",
       "      <td>Turkey</td>\n",
       "      <td>73.964870</td>\n",
       "      <td>85.451160</td>\n",
       "      <td>86.558064</td>\n",
       "    </tr>\n",
       "    <tr>\n",
       "      <th>1</th>\n",
       "      <td>Belgium</td>\n",
       "      <td>83.884435</td>\n",
       "      <td>96.768431</td>\n",
       "      <td>86.685745</td>\n",
       "    </tr>\n",
       "    <tr>\n",
       "      <th>23</th>\n",
       "      <td>Portugal</td>\n",
       "      <td>85.218791</td>\n",
       "      <td>95.380373</td>\n",
       "      <td>89.346255</td>\n",
       "    </tr>\n",
       "    <tr>\n",
       "      <th>19</th>\n",
       "      <td>Mexico</td>\n",
       "      <td>86.479806</td>\n",
       "      <td>96.640936</td>\n",
       "      <td>89.485687</td>\n",
       "    </tr>\n",
       "  </tbody>\n",
       "</table>\n",
       "</div>"
      ],
      "text/plain": [
       "        CountryName    PayMean  ExpenditureMean  PayPercent\n",
       "5    Czech Republic  53.822424        90.071116   59.755476\n",
       "7           Estonia  56.551485        87.724800   64.464650\n",
       "8           Finland  60.336801        92.758562   65.047150\n",
       "24  Slovak Republic  61.343454        93.647287   65.504786\n",
       "27           Sweden  63.216013        95.895335   65.921886\n",
       "22           Poland  63.302799        92.204219   68.654992\n",
       "3             Chile  63.398382        91.952367   68.946982\n",
       "2            Canada  68.893984        93.978426   73.308297\n",
       "12          Hungary  67.279218        91.750567   73.328394\n",
       "29   United Kingdom  69.148961        92.667564   74.620458\n",
       "13          Iceland  68.601970        91.764747   74.758524\n",
       "0           Austria  71.553688        95.453861   74.961544\n",
       "21           Norway  67.519303        88.906853   75.943869\n",
       "15           Israel  70.160429        92.184120   76.109019\n",
       "25         Slovenia  68.980215        90.446833   76.266037\n",
       "30    United States  68.162898        89.179181   76.433645\n",
       "17            Japan  69.143889        88.973986   77.712478\n",
       "16            Italy  73.274635        93.415541   78.439448\n",
       "10          Germany  72.218549        91.691064   78.762909\n",
       "6           Denmark  74.017376        93.816725   78.895716\n",
       "20      Netherlands  69.467742        87.856714   79.069361\n",
       "14          Ireland  72.978852        91.175128   80.042500\n",
       "11           Greece  64.971493        80.098607   81.114385\n",
       "9            France  73.655396        90.591980   81.304543\n",
       "4          Colombia  70.978941        86.964900   81.617918\n",
       "26            Spain  73.938959        89.628561   82.494864\n",
       "18       Luxembourg  71.270691        82.484138   86.405329\n",
       "28           Turkey  73.964870        85.451160   86.558064\n",
       "1           Belgium  83.884435        96.768431   86.685745\n",
       "23         Portugal  85.218791        95.380373   89.346255\n",
       "19           Mexico  86.479806        96.640936   89.485687"
      ]
     },
     "execution_count": 28,
     "metadata": {},
     "output_type": "execute_result"
    }
   ],
   "source": [
    "selectedCountries = total.sort_values(by='PayPercent', ascending=True)\n",
    "selectedCountries"
   ]
  },
  {
   "cell_type": "code",
   "execution_count": 29,
   "metadata": {
    "collapsed": true
   },
   "outputs": [],
   "source": [
    "countries = selectedCountries['CountryName'].values.tolist()"
   ]
  },
  {
   "cell_type": "markdown",
   "metadata": {},
   "source": [
    "### World countries from hufifngton article"
   ]
  },
  {
   "cell_type": "code",
   "execution_count": 19,
   "metadata": {},
   "outputs": [
    {
     "data": {
      "image/png": "[encoded data removed]",
      "text/plain": [
       "<Figure size 720x720 with 1 Axes>"
      ]
     },
     "metadata": {},
     "output_type": "display_data"
    }
   ],
   "source": [
    "from skimage import data\n",
    "photo_data = misc.imread('2017_MostPaidTeachers_Countries.jpg')\n",
    "plt.figure(figsize=(10,10))\n",
    "plt.imshow(photo_data);"
   ]
  },
  {
   "cell_type": "markdown",
   "metadata": {},
   "source": [
    "### Plot Staff compensation percentage compared to education expenditure"
   ]
  },
  {
   "cell_type": "code",
   "execution_count": 37,
   "metadata": {},
   "outputs": [
    {
     "data": {
      "image/png": "[encoded data removed]",
      "text/plain": [
       "<Figure size 432x432 with 1 Axes>"
      ]
     },
     "metadata": {},
     "output_type": "display_data"
    }
   ],
   "source": [
    "tickLoc = [y for y in range(len(countries))]\n",
    "fig, ax = plt.subplots(figsize=(6,6))\n",
    "ax.set_title('Staff compensation % compared to Expenditure', fontsize=20)\n",
    "ax.set_xlim([0,100])\n",
    "plt.yticks(tickLoc, countries)\n",
    "plt.ylabel('Countries', fontsize=15)\n",
    "plt.xlabel('% of Pay',fontsize=15)\n",
    "plt.barh( tickLoc, selectedCountries['PayPercent'].values, height=0.5, color='orange')\n",
    "plt.show()"
   ]
  },
  {
   "cell_type": "markdown",
   "metadata": {},
   "source": [
    "### Based on the results, Mexico has  highest teacher compensation whereas Luxembourg, top country mentioned in the article, is in fifth position."
   ]
  },
  {
   "cell_type": "markdown",
   "metadata": {},
   "source": [
    "### Find correlation between staff compensation and education expenditure"
   ]
  },
  {
   "cell_type": "code",
   "execution_count": 14,
   "metadata": {},
   "outputs": [
    {
     "data": {
      "text/plain": [
       "array([[1.        , 0.30616735],\n",
       "       [0.30616735, 1.        ]])"
      ]
     },
     "execution_count": 14,
     "metadata": {},
     "output_type": "execute_result"
    }
   ],
   "source": [
    "np.corrcoef(avgExp['ExpMean'].values, avgStaffPay['PayMean'].values)"
   ]
  },
  {
   "cell_type": "markdown",
   "metadata": {},
   "source": [
    "### Scatter plot: % of Expenditure vs % of Pay"
   ]
  },
  {
   "cell_type": "code",
   "execution_count": 32,
   "metadata": {},
   "outputs": [
    {
     "data": {
      "image/png": "[encoded data removed]",
      "text/plain": [
       "<Figure size 216x216 with 1 Axes>"
      ]
     },
     "metadata": {},
     "output_type": "display_data"
    }
   ],
   "source": [
    "fig, ax = plt.subplots(figsize=(3,3))\n",
    "ax.set_xlim([75,100])\n",
    "ax.set_ylim([0,100])\n",
    "plt.xlabel('% of Expenditure', fontsize=15)\n",
    "plt.ylabel('% of Compensation',fontsize=15)\n",
    "plt.scatter(avgExp['ExpenditureMean'].values, avgStaffPay['PayMean'].values)\n",
    "plt.show()"
   ]
  },
  {
   "cell_type": "markdown",
   "metadata": {},
   "source": [
    "### Based on scatter plot and correlation coefficient of 0.35, looks like Staff compensation doesn't necessarily go up with Education expenditure and of all the 20 countries Mexico's teacher compensation to expenditure ratio is high."
   ]
  }
 ],
 "metadata": {
  "kernelspec": {
   "display_name": "Python 3",
   "language": "python",
   "name": "python3"
  },
  "language_info": {
   "codemirror_mode": {
    "name": "ipython",
    "version": 3
   },
   "file_extension": ".py",
   "mimetype": "text/x-python",
   "name": "python",
   "nbconvert_exporter": "python",
   "pygments_lexer": "ipython3",
   "version": "3.6.8"
  }
 },
 "nbformat": 4,
 "nbformat_minor": 2
}
